{
 "cells": [
  {
   "cell_type": "markdown",
   "metadata": {},
   "source": [
    "### Importing Relevant Packages"
   ]
  },
  {
   "cell_type": "code",
   "execution_count": 2,
   "metadata": {},
   "outputs": [],
   "source": [
    "import pandas as pd \n",
    "import numpy as np \n",
    "import matplotlib.pyplot as plt \n",
    "import warnings\n",
    "warnings.filterwarnings('ignore')\n",
    "import statsmodels.graphics.tsaplots as sgt \n",
    "import statsmodels.tsa.stattools as sts \n",
    "from statsmodels.tsa.seasonal import seasonal_decompose\n",
    "import seaborn as sns\n",
    "import matplotlib\n",
    "import statsmodels.api as sm\n",
    "plt.style.use('fivethirtyeight')\n",
    "import itertools\n",
    "sns.set()"
   ]
  },
  {
   "cell_type": "code",
   "execution_count": 3,
   "metadata": {},
   "outputs": [],
   "source": [
    "import os\n",
    "import glob\n",
    "import impyute as impy"
   ]
  },
  {
   "cell_type": "code",
   "execution_count": 4,
   "metadata": {},
   "outputs": [],
   "source": [
    "matplotlib.rcParams['axes.labelsize'] = 14\n",
    "matplotlib.rcParams['xtick.labelsize'] = 12\n",
    "matplotlib.rcParams['ytick.labelsize'] = 12\n",
    "matplotlib.rcParams['text.color'] = 'k'"
   ]
  },
  {
   "cell_type": "markdown",
   "metadata": {},
   "source": [
    "### Loading and Transforming the Data"
   ]
  },
  {
   "cell_type": "code",
   "execution_count": 5,
   "metadata": {},
   "outputs": [],
   "source": [
    "path = \"/Users/satavisha/anaconda3/envs/timeseries/TimeSeries/J&J Hackathon 2021/forecast_train_data/\""
   ]
  },
  {
   "cell_type": "code",
   "execution_count": 6,
   "metadata": {},
   "outputs": [
    {
     "data": {
      "text/plain": [
       "['/Users/satavisha/anaconda3/envs/timeseries/TimeSeries/J&J Hackathon 2021/forecast_train_data/hackers_train_1.csv',\n",
       " '/Users/satavisha/anaconda3/envs/timeseries/TimeSeries/J&J Hackathon 2021/forecast_train_data/hackers_train_2.csv',\n",
       " '/Users/satavisha/anaconda3/envs/timeseries/TimeSeries/J&J Hackathon 2021/forecast_train_data/hackers_train_3.csv']"
      ]
     },
     "execution_count": 6,
     "metadata": {},
     "output_type": "execute_result"
    }
   ],
   "source": [
    "raw_files = glob.glob(path + \"*.csv\")\n",
    "raw_files"
   ]
  },
  {
   "cell_type": "code",
   "execution_count": 7,
   "metadata": {},
   "outputs": [],
   "source": [
    "li = []\n",
    "for filename in raw_files:\n",
    "    df_ts = pd.read_csv(filename, index_col=None, header=0)\n",
    "    li.append(df_ts)"
   ]
  },
  {
   "cell_type": "code",
   "execution_count": 8,
   "metadata": {},
   "outputs": [],
   "source": [
    "df = pd.concat(li, axis = 0, ignore_index=True)"
   ]
  },
  {
   "cell_type": "code",
   "execution_count": 9,
   "metadata": {},
   "outputs": [
    {
     "name": "stdout",
     "output_type": "stream",
     "text": [
      "<class 'pandas.core.frame.DataFrame'>\n",
      "RangeIndex: 8973819 entries, 0 to 8973818\n",
      "Data columns (total 27 columns):\n",
      " #   Column                 Dtype  \n",
      "---  ------                 -----  \n",
      " 0   Unnamed: 0             int64  \n",
      " 1   RecordID               int64  \n",
      " 2   vics_bol_num           object \n",
      " 3   shpmt_doc_num          float64\n",
      " 4   purch_ord_num          object \n",
      " 5   sls_ord_num            int64  \n",
      " 6   dlvry_doc_num          int64  \n",
      " 7   sold_to_num            int64  \n",
      " 8   ship_to_num            int64  \n",
      " 9   matl_num               int64  \n",
      " 10  invc_num               int64  \n",
      " 11  sls_doc_typ            object \n",
      " 12  plant_cd               object \n",
      " 13  tms_load_id            object \n",
      " 14  invc_create_dt         object \n",
      " 15  sls_itm_subtotal_3     float64\n",
      " 16  sls_itm_catg           object \n",
      " 17  invc_itm_gross_weight  float64\n",
      " 18  invc_itm_volume        float64\n",
      " 19  DisplayItemFlag        int64  \n",
      " 20  ct_match               object \n",
      " 21  line_ct_charges        float64\n",
      " 22  line_glo_charges       float64\n",
      " 23  fiscal_yr_mo           object \n",
      " 24  kc_trim                int64  \n",
      " 25  invc_qty_ea            float64\n",
      " 26  invc_qty_cs            float64\n",
      "dtypes: float64(8), int64(10), object(9)\n",
      "memory usage: 1.8+ GB\n"
     ]
    }
   ],
   "source": [
    "df.info()"
   ]
  },
  {
   "cell_type": "code",
   "execution_count": 10,
   "metadata": {},
   "outputs": [
    {
     "data": {
      "text/plain": [
       "0    2019-12-30\n",
       "1    2019-12-30\n",
       "2    2019-12-30\n",
       "3    2019-12-30\n",
       "4    2019-12-30\n",
       "Name: invc_create_dt, dtype: object"
      ]
     },
     "execution_count": 10,
     "metadata": {},
     "output_type": "execute_result"
    }
   ],
   "source": [
    "df.invc_create_dt.head()"
   ]
  },
  {
   "cell_type": "code",
   "execution_count": 11,
   "metadata": {},
   "outputs": [
    {
     "data": {
      "text/plain": [
       "8973814    2021-01-27\n",
       "8973815    2021-01-27\n",
       "8973816    2021-01-27\n",
       "8973817    2021-01-27\n",
       "8973818    2021-01-27\n",
       "Name: invc_create_dt, dtype: object"
      ]
     },
     "execution_count": 11,
     "metadata": {},
     "output_type": "execute_result"
    }
   ],
   "source": [
    "df.invc_create_dt.tail()"
   ]
  },
  {
   "cell_type": "code",
   "execution_count": 12,
   "metadata": {},
   "outputs": [],
   "source": [
    "df.invc_create_dt = pd.to_datetime(df.invc_create_dt)"
   ]
  },
  {
   "cell_type": "code",
   "execution_count": 13,
   "metadata": {},
   "outputs": [],
   "source": [
    "df.fiscal_yr_mo = pd.to_datetime(df.fiscal_yr_mo)"
   ]
  },
  {
   "cell_type": "code",
   "execution_count": 14,
   "metadata": {},
   "outputs": [],
   "source": [
    "df_ts = df.copy()"
   ]
  },
  {
   "cell_type": "code",
   "execution_count": 15,
   "metadata": {},
   "outputs": [
    {
     "data": {
      "text/html": [
       "<div>\n",
       "<style scoped>\n",
       "    .dataframe tbody tr th:only-of-type {\n",
       "        vertical-align: middle;\n",
       "    }\n",
       "\n",
       "    .dataframe tbody tr th {\n",
       "        vertical-align: top;\n",
       "    }\n",
       "\n",
       "    .dataframe thead th {\n",
       "        text-align: right;\n",
       "    }\n",
       "</style>\n",
       "<table border=\"1\" class=\"dataframe\">\n",
       "  <thead>\n",
       "    <tr style=\"text-align: right;\">\n",
       "      <th></th>\n",
       "      <th>Unnamed: 0</th>\n",
       "      <th>RecordID</th>\n",
       "      <th>vics_bol_num</th>\n",
       "      <th>shpmt_doc_num</th>\n",
       "      <th>purch_ord_num</th>\n",
       "      <th>sls_ord_num</th>\n",
       "      <th>dlvry_doc_num</th>\n",
       "      <th>sold_to_num</th>\n",
       "      <th>ship_to_num</th>\n",
       "      <th>matl_num</th>\n",
       "      <th>...</th>\n",
       "      <th>invc_itm_gross_weight</th>\n",
       "      <th>invc_itm_volume</th>\n",
       "      <th>DisplayItemFlag</th>\n",
       "      <th>ct_match</th>\n",
       "      <th>line_ct_charges</th>\n",
       "      <th>line_glo_charges</th>\n",
       "      <th>fiscal_yr_mo</th>\n",
       "      <th>kc_trim</th>\n",
       "      <th>invc_qty_ea</th>\n",
       "      <th>invc_qty_cs</th>\n",
       "    </tr>\n",
       "  </thead>\n",
       "  <tbody>\n",
       "    <tr>\n",
       "      <th>0</th>\n",
       "      <td>0</td>\n",
       "      <td>1</td>\n",
       "      <td>3813714083382997</td>\n",
       "      <td>1823014.0</td>\n",
       "      <td>6KBP1JOG</td>\n",
       "      <td>16987272</td>\n",
       "      <td>87569406</td>\n",
       "      <td>40002164</td>\n",
       "      <td>40036679</td>\n",
       "      <td>111672475</td>\n",
       "      <td>...</td>\n",
       "      <td>2088.00</td>\n",
       "      <td>69.774</td>\n",
       "      <td>0</td>\n",
       "      <td>y</td>\n",
       "      <td>20.42611</td>\n",
       "      <td>16.55967</td>\n",
       "      <td>2020-01-01</td>\n",
       "      <td>48176901</td>\n",
       "      <td>2088.0</td>\n",
       "      <td>174.0</td>\n",
       "    </tr>\n",
       "    <tr>\n",
       "      <th>1</th>\n",
       "      <td>1</td>\n",
       "      <td>2</td>\n",
       "      <td>3813714083382997</td>\n",
       "      <td>1823014.0</td>\n",
       "      <td>6KBP1JOG</td>\n",
       "      <td>16987272</td>\n",
       "      <td>87569406</td>\n",
       "      <td>40002164</td>\n",
       "      <td>40036679</td>\n",
       "      <td>111747900</td>\n",
       "      <td>...</td>\n",
       "      <td>2952.75</td>\n",
       "      <td>111.760</td>\n",
       "      <td>0</td>\n",
       "      <td>y</td>\n",
       "      <td>28.88563</td>\n",
       "      <td>23.41789</td>\n",
       "      <td>2020-01-01</td>\n",
       "      <td>48176901</td>\n",
       "      <td>1524.0</td>\n",
       "      <td>127.0</td>\n",
       "    </tr>\n",
       "    <tr>\n",
       "      <th>2</th>\n",
       "      <td>2</td>\n",
       "      <td>3</td>\n",
       "      <td>3813714083382997</td>\n",
       "      <td>1823014.0</td>\n",
       "      <td>6KBP1JOG</td>\n",
       "      <td>16987272</td>\n",
       "      <td>87569406</td>\n",
       "      <td>40002164</td>\n",
       "      <td>40036679</td>\n",
       "      <td>111756100</td>\n",
       "      <td>...</td>\n",
       "      <td>1951.60</td>\n",
       "      <td>73.718</td>\n",
       "      <td>0</td>\n",
       "      <td>y</td>\n",
       "      <td>19.09176</td>\n",
       "      <td>15.47790</td>\n",
       "      <td>2020-01-01</td>\n",
       "      <td>48176901</td>\n",
       "      <td>984.0</td>\n",
       "      <td>82.0</td>\n",
       "    </tr>\n",
       "    <tr>\n",
       "      <th>3</th>\n",
       "      <td>3</td>\n",
       "      <td>4</td>\n",
       "      <td>3813714083382997</td>\n",
       "      <td>1823014.0</td>\n",
       "      <td>6KBP1JOG</td>\n",
       "      <td>16987272</td>\n",
       "      <td>87569406</td>\n",
       "      <td>40002164</td>\n",
       "      <td>40036679</td>\n",
       "      <td>111756800</td>\n",
       "      <td>...</td>\n",
       "      <td>2885.10</td>\n",
       "      <td>109.740</td>\n",
       "      <td>0</td>\n",
       "      <td>y</td>\n",
       "      <td>28.22384</td>\n",
       "      <td>22.88137</td>\n",
       "      <td>2020-01-01</td>\n",
       "      <td>48176901</td>\n",
       "      <td>1416.0</td>\n",
       "      <td>118.0</td>\n",
       "    </tr>\n",
       "    <tr>\n",
       "      <th>4</th>\n",
       "      <td>4</td>\n",
       "      <td>5</td>\n",
       "      <td>3813714083382997</td>\n",
       "      <td>1823014.0</td>\n",
       "      <td>6KBP1JOG</td>\n",
       "      <td>16987272</td>\n",
       "      <td>87569406</td>\n",
       "      <td>40002164</td>\n",
       "      <td>40036679</td>\n",
       "      <td>111774700</td>\n",
       "      <td>...</td>\n",
       "      <td>4661.25</td>\n",
       "      <td>318.321</td>\n",
       "      <td>0</td>\n",
       "      <td>y</td>\n",
       "      <td>45.59924</td>\n",
       "      <td>36.96780</td>\n",
       "      <td>2020-01-01</td>\n",
       "      <td>48176901</td>\n",
       "      <td>1356.0</td>\n",
       "      <td>339.0</td>\n",
       "    </tr>\n",
       "  </tbody>\n",
       "</table>\n",
       "<p>5 rows × 27 columns</p>\n",
       "</div>"
      ],
      "text/plain": [
       "   Unnamed: 0  RecordID      vics_bol_num  shpmt_doc_num purch_ord_num  \\\n",
       "0           0         1  3813714083382997      1823014.0      6KBP1JOG   \n",
       "1           1         2  3813714083382997      1823014.0      6KBP1JOG   \n",
       "2           2         3  3813714083382997      1823014.0      6KBP1JOG   \n",
       "3           3         4  3813714083382997      1823014.0      6KBP1JOG   \n",
       "4           4         5  3813714083382997      1823014.0      6KBP1JOG   \n",
       "\n",
       "   sls_ord_num  dlvry_doc_num  sold_to_num  ship_to_num   matl_num  ...  \\\n",
       "0     16987272       87569406     40002164     40036679  111672475  ...   \n",
       "1     16987272       87569406     40002164     40036679  111747900  ...   \n",
       "2     16987272       87569406     40002164     40036679  111756100  ...   \n",
       "3     16987272       87569406     40002164     40036679  111756800  ...   \n",
       "4     16987272       87569406     40002164     40036679  111774700  ...   \n",
       "\n",
       "   invc_itm_gross_weight invc_itm_volume DisplayItemFlag ct_match  \\\n",
       "0                2088.00          69.774               0        y   \n",
       "1                2952.75         111.760               0        y   \n",
       "2                1951.60          73.718               0        y   \n",
       "3                2885.10         109.740               0        y   \n",
       "4                4661.25         318.321               0        y   \n",
       "\n",
       "  line_ct_charges  line_glo_charges fiscal_yr_mo   kc_trim  invc_qty_ea  \\\n",
       "0        20.42611          16.55967   2020-01-01  48176901       2088.0   \n",
       "1        28.88563          23.41789   2020-01-01  48176901       1524.0   \n",
       "2        19.09176          15.47790   2020-01-01  48176901        984.0   \n",
       "3        28.22384          22.88137   2020-01-01  48176901       1416.0   \n",
       "4        45.59924          36.96780   2020-01-01  48176901       1356.0   \n",
       "\n",
       "   invc_qty_cs  \n",
       "0        174.0  \n",
       "1        127.0  \n",
       "2         82.0  \n",
       "3        118.0  \n",
       "4        339.0  \n",
       "\n",
       "[5 rows x 27 columns]"
      ]
     },
     "execution_count": 15,
     "metadata": {},
     "output_type": "execute_result"
    }
   ],
   "source": [
    "df_ts.head()"
   ]
  },
  {
   "cell_type": "code",
   "execution_count": 16,
   "metadata": {},
   "outputs": [],
   "source": [
    "df_ts = df_ts.drop(\"Unnamed: 0\",axis=1)"
   ]
  },
  {
   "cell_type": "code",
   "execution_count": 17,
   "metadata": {},
   "outputs": [
    {
     "data": {
      "text/html": [
       "<div>\n",
       "<style scoped>\n",
       "    .dataframe tbody tr th:only-of-type {\n",
       "        vertical-align: middle;\n",
       "    }\n",
       "\n",
       "    .dataframe tbody tr th {\n",
       "        vertical-align: top;\n",
       "    }\n",
       "\n",
       "    .dataframe thead th {\n",
       "        text-align: right;\n",
       "    }\n",
       "</style>\n",
       "<table border=\"1\" class=\"dataframe\">\n",
       "  <thead>\n",
       "    <tr style=\"text-align: right;\">\n",
       "      <th></th>\n",
       "      <th>RecordID</th>\n",
       "      <th>vics_bol_num</th>\n",
       "      <th>shpmt_doc_num</th>\n",
       "      <th>purch_ord_num</th>\n",
       "      <th>sls_ord_num</th>\n",
       "      <th>dlvry_doc_num</th>\n",
       "      <th>sold_to_num</th>\n",
       "      <th>ship_to_num</th>\n",
       "      <th>matl_num</th>\n",
       "      <th>invc_num</th>\n",
       "      <th>...</th>\n",
       "      <th>invc_itm_gross_weight</th>\n",
       "      <th>invc_itm_volume</th>\n",
       "      <th>DisplayItemFlag</th>\n",
       "      <th>ct_match</th>\n",
       "      <th>line_ct_charges</th>\n",
       "      <th>line_glo_charges</th>\n",
       "      <th>fiscal_yr_mo</th>\n",
       "      <th>kc_trim</th>\n",
       "      <th>invc_qty_ea</th>\n",
       "      <th>invc_qty_cs</th>\n",
       "    </tr>\n",
       "  </thead>\n",
       "  <tbody>\n",
       "    <tr>\n",
       "      <th>8973814</th>\n",
       "      <td>5982542</td>\n",
       "      <td>3813714294535991</td>\n",
       "      <td>1990805.0</td>\n",
       "      <td>6305775929</td>\n",
       "      <td>17659982</td>\n",
       "      <td>88278722</td>\n",
       "      <td>40000812</td>\n",
       "      <td>40012560</td>\n",
       "      <td>681243109</td>\n",
       "      <td>9503788324</td>\n",
       "      <td>...</td>\n",
       "      <td>0.659</td>\n",
       "      <td>0.021</td>\n",
       "      <td>0</td>\n",
       "      <td>n</td>\n",
       "      <td>0.0</td>\n",
       "      <td>0.254730</td>\n",
       "      <td>2021-01-01</td>\n",
       "      <td>48053701</td>\n",
       "      <td>2.0</td>\n",
       "      <td>0.055556</td>\n",
       "    </tr>\n",
       "    <tr>\n",
       "      <th>8973815</th>\n",
       "      <td>5982543</td>\n",
       "      <td>3813714294535991</td>\n",
       "      <td>1990805.0</td>\n",
       "      <td>6305775929</td>\n",
       "      <td>17659982</td>\n",
       "      <td>88278722</td>\n",
       "      <td>40000812</td>\n",
       "      <td>40012560</td>\n",
       "      <td>681244001</td>\n",
       "      <td>9503788324</td>\n",
       "      <td>...</td>\n",
       "      <td>0.168</td>\n",
       "      <td>0.017</td>\n",
       "      <td>0</td>\n",
       "      <td>n</td>\n",
       "      <td>0.0</td>\n",
       "      <td>0.064939</td>\n",
       "      <td>2021-01-01</td>\n",
       "      <td>48053701</td>\n",
       "      <td>2.0</td>\n",
       "      <td>0.055556</td>\n",
       "    </tr>\n",
       "    <tr>\n",
       "      <th>8973816</th>\n",
       "      <td>5982544</td>\n",
       "      <td>3813714294535991</td>\n",
       "      <td>1990805.0</td>\n",
       "      <td>6305775929</td>\n",
       "      <td>17659982</td>\n",
       "      <td>88278722</td>\n",
       "      <td>40000812</td>\n",
       "      <td>40012560</td>\n",
       "      <td>684384601</td>\n",
       "      <td>9503788324</td>\n",
       "      <td>...</td>\n",
       "      <td>0.055</td>\n",
       "      <td>0.002</td>\n",
       "      <td>0</td>\n",
       "      <td>n</td>\n",
       "      <td>0.0</td>\n",
       "      <td>0.021260</td>\n",
       "      <td>2021-01-01</td>\n",
       "      <td>48053701</td>\n",
       "      <td>1.0</td>\n",
       "      <td>0.027778</td>\n",
       "    </tr>\n",
       "    <tr>\n",
       "      <th>8973817</th>\n",
       "      <td>5982545</td>\n",
       "      <td>3813714294535991</td>\n",
       "      <td>1990805.0</td>\n",
       "      <td>6305775929</td>\n",
       "      <td>17659982</td>\n",
       "      <td>88278722</td>\n",
       "      <td>40000812</td>\n",
       "      <td>40012560</td>\n",
       "      <td>684387900</td>\n",
       "      <td>9503788324</td>\n",
       "      <td>...</td>\n",
       "      <td>0.055</td>\n",
       "      <td>0.002</td>\n",
       "      <td>0</td>\n",
       "      <td>n</td>\n",
       "      <td>0.0</td>\n",
       "      <td>0.021260</td>\n",
       "      <td>2021-01-01</td>\n",
       "      <td>48053701</td>\n",
       "      <td>1.0</td>\n",
       "      <td>0.027778</td>\n",
       "    </tr>\n",
       "    <tr>\n",
       "      <th>8973818</th>\n",
       "      <td>5982546</td>\n",
       "      <td>3813714294535991</td>\n",
       "      <td>1990805.0</td>\n",
       "      <td>6305775929</td>\n",
       "      <td>17659982</td>\n",
       "      <td>88278722</td>\n",
       "      <td>40000812</td>\n",
       "      <td>40012560</td>\n",
       "      <td>686700107</td>\n",
       "      <td>9503788324</td>\n",
       "      <td>...</td>\n",
       "      <td>0.517</td>\n",
       "      <td>0.010</td>\n",
       "      <td>0</td>\n",
       "      <td>n</td>\n",
       "      <td>0.0</td>\n",
       "      <td>0.199842</td>\n",
       "      <td>2021-01-01</td>\n",
       "      <td>48053701</td>\n",
       "      <td>2.0</td>\n",
       "      <td>0.055556</td>\n",
       "    </tr>\n",
       "  </tbody>\n",
       "</table>\n",
       "<p>5 rows × 26 columns</p>\n",
       "</div>"
      ],
      "text/plain": [
       "         RecordID      vics_bol_num  shpmt_doc_num purch_ord_num  sls_ord_num  \\\n",
       "8973814   5982542  3813714294535991      1990805.0    6305775929     17659982   \n",
       "8973815   5982543  3813714294535991      1990805.0    6305775929     17659982   \n",
       "8973816   5982544  3813714294535991      1990805.0    6305775929     17659982   \n",
       "8973817   5982545  3813714294535991      1990805.0    6305775929     17659982   \n",
       "8973818   5982546  3813714294535991      1990805.0    6305775929     17659982   \n",
       "\n",
       "         dlvry_doc_num  sold_to_num  ship_to_num   matl_num    invc_num  ...  \\\n",
       "8973814       88278722     40000812     40012560  681243109  9503788324  ...   \n",
       "8973815       88278722     40000812     40012560  681244001  9503788324  ...   \n",
       "8973816       88278722     40000812     40012560  684384601  9503788324  ...   \n",
       "8973817       88278722     40000812     40012560  684387900  9503788324  ...   \n",
       "8973818       88278722     40000812     40012560  686700107  9503788324  ...   \n",
       "\n",
       "        invc_itm_gross_weight invc_itm_volume DisplayItemFlag ct_match  \\\n",
       "8973814                 0.659           0.021               0        n   \n",
       "8973815                 0.168           0.017               0        n   \n",
       "8973816                 0.055           0.002               0        n   \n",
       "8973817                 0.055           0.002               0        n   \n",
       "8973818                 0.517           0.010               0        n   \n",
       "\n",
       "         line_ct_charges line_glo_charges  fiscal_yr_mo   kc_trim  \\\n",
       "8973814              0.0         0.254730    2021-01-01  48053701   \n",
       "8973815              0.0         0.064939    2021-01-01  48053701   \n",
       "8973816              0.0         0.021260    2021-01-01  48053701   \n",
       "8973817              0.0         0.021260    2021-01-01  48053701   \n",
       "8973818              0.0         0.199842    2021-01-01  48053701   \n",
       "\n",
       "         invc_qty_ea invc_qty_cs  \n",
       "8973814          2.0    0.055556  \n",
       "8973815          2.0    0.055556  \n",
       "8973816          1.0    0.027778  \n",
       "8973817          1.0    0.027778  \n",
       "8973818          2.0    0.055556  \n",
       "\n",
       "[5 rows x 26 columns]"
      ]
     },
     "execution_count": 17,
     "metadata": {},
     "output_type": "execute_result"
    }
   ],
   "source": [
    "df_ts.tail()"
   ]
  },
  {
   "cell_type": "code",
   "execution_count": 18,
   "metadata": {},
   "outputs": [],
   "source": [
    "df_ts.iloc[:,24:] = df_ts.iloc[:,24:].astype(int)"
   ]
  },
  {
   "cell_type": "code",
   "execution_count": 19,
   "metadata": {},
   "outputs": [
    {
     "data": {
      "text/html": [
       "<div>\n",
       "<style scoped>\n",
       "    .dataframe tbody tr th:only-of-type {\n",
       "        vertical-align: middle;\n",
       "    }\n",
       "\n",
       "    .dataframe tbody tr th {\n",
       "        vertical-align: top;\n",
       "    }\n",
       "\n",
       "    .dataframe thead th {\n",
       "        text-align: right;\n",
       "    }\n",
       "</style>\n",
       "<table border=\"1\" class=\"dataframe\">\n",
       "  <thead>\n",
       "    <tr style=\"text-align: right;\">\n",
       "      <th></th>\n",
       "      <th>line_ct_charges</th>\n",
       "      <th>line_glo_charges</th>\n",
       "      <th>fiscal_yr_mo</th>\n",
       "      <th>kc_trim</th>\n",
       "      <th>invc_qty_ea</th>\n",
       "      <th>invc_qty_cs</th>\n",
       "    </tr>\n",
       "  </thead>\n",
       "  <tbody>\n",
       "    <tr>\n",
       "      <th>0</th>\n",
       "      <td>20.42611</td>\n",
       "      <td>16.55967</td>\n",
       "      <td>2020-01-01</td>\n",
       "      <td>48176901</td>\n",
       "      <td>2088</td>\n",
       "      <td>174</td>\n",
       "    </tr>\n",
       "    <tr>\n",
       "      <th>1</th>\n",
       "      <td>28.88563</td>\n",
       "      <td>23.41789</td>\n",
       "      <td>2020-01-01</td>\n",
       "      <td>48176901</td>\n",
       "      <td>1524</td>\n",
       "      <td>127</td>\n",
       "    </tr>\n",
       "    <tr>\n",
       "      <th>2</th>\n",
       "      <td>19.09176</td>\n",
       "      <td>15.47790</td>\n",
       "      <td>2020-01-01</td>\n",
       "      <td>48176901</td>\n",
       "      <td>984</td>\n",
       "      <td>82</td>\n",
       "    </tr>\n",
       "    <tr>\n",
       "      <th>3</th>\n",
       "      <td>28.22384</td>\n",
       "      <td>22.88137</td>\n",
       "      <td>2020-01-01</td>\n",
       "      <td>48176901</td>\n",
       "      <td>1416</td>\n",
       "      <td>118</td>\n",
       "    </tr>\n",
       "    <tr>\n",
       "      <th>4</th>\n",
       "      <td>45.59924</td>\n",
       "      <td>36.96780</td>\n",
       "      <td>2020-01-01</td>\n",
       "      <td>48176901</td>\n",
       "      <td>1356</td>\n",
       "      <td>339</td>\n",
       "    </tr>\n",
       "    <tr>\n",
       "      <th>5</th>\n",
       "      <td>12.82032</td>\n",
       "      <td>10.39357</td>\n",
       "      <td>2020-01-01</td>\n",
       "      <td>48176901</td>\n",
       "      <td>2608</td>\n",
       "      <td>652</td>\n",
       "    </tr>\n",
       "    <tr>\n",
       "      <th>6</th>\n",
       "      <td>21.84029</td>\n",
       "      <td>17.70616</td>\n",
       "      <td>2020-01-01</td>\n",
       "      <td>48176901</td>\n",
       "      <td>2832</td>\n",
       "      <td>118</td>\n",
       "    </tr>\n",
       "    <tr>\n",
       "      <th>7</th>\n",
       "      <td>175.11870</td>\n",
       "      <td>141.97060</td>\n",
       "      <td>2020-01-01</td>\n",
       "      <td>48176901</td>\n",
       "      <td>4590</td>\n",
       "      <td>765</td>\n",
       "    </tr>\n",
       "    <tr>\n",
       "      <th>8</th>\n",
       "      <td>18.53414</td>\n",
       "      <td>15.02583</td>\n",
       "      <td>2020-01-01</td>\n",
       "      <td>48176901</td>\n",
       "      <td>8784</td>\n",
       "      <td>183</td>\n",
       "    </tr>\n",
       "    <tr>\n",
       "      <th>9</th>\n",
       "      <td>3466.26000</td>\n",
       "      <td>3645.32300</td>\n",
       "      <td>2020-01-01</td>\n",
       "      <td>48144001</td>\n",
       "      <td>5376</td>\n",
       "      <td>28</td>\n",
       "    </tr>\n",
       "  </tbody>\n",
       "</table>\n",
       "</div>"
      ],
      "text/plain": [
       "   line_ct_charges  line_glo_charges fiscal_yr_mo   kc_trim  invc_qty_ea  \\\n",
       "0         20.42611          16.55967   2020-01-01  48176901         2088   \n",
       "1         28.88563          23.41789   2020-01-01  48176901         1524   \n",
       "2         19.09176          15.47790   2020-01-01  48176901          984   \n",
       "3         28.22384          22.88137   2020-01-01  48176901         1416   \n",
       "4         45.59924          36.96780   2020-01-01  48176901         1356   \n",
       "5         12.82032          10.39357   2020-01-01  48176901         2608   \n",
       "6         21.84029          17.70616   2020-01-01  48176901         2832   \n",
       "7        175.11870         141.97060   2020-01-01  48176901         4590   \n",
       "8         18.53414          15.02583   2020-01-01  48176901         8784   \n",
       "9       3466.26000        3645.32300   2020-01-01  48144001         5376   \n",
       "\n",
       "   invc_qty_cs  \n",
       "0          174  \n",
       "1          127  \n",
       "2           82  \n",
       "3          118  \n",
       "4          339  \n",
       "5          652  \n",
       "6          118  \n",
       "7          765  \n",
       "8          183  \n",
       "9           28  "
      ]
     },
     "execution_count": 19,
     "metadata": {},
     "output_type": "execute_result"
    }
   ],
   "source": [
    "df_ts.iloc[:,20:].head(10)"
   ]
  },
  {
   "cell_type": "code",
   "execution_count": 20,
   "metadata": {},
   "outputs": [
    {
     "name": "stdout",
     "output_type": "stream",
     "text": [
      "<class 'pandas.core.frame.DataFrame'>\n",
      "RangeIndex: 8973819 entries, 0 to 8973818\n",
      "Data columns (total 26 columns):\n",
      " #   Column                 Dtype         \n",
      "---  ------                 -----         \n",
      " 0   RecordID               int64         \n",
      " 1   vics_bol_num           object        \n",
      " 2   shpmt_doc_num          float64       \n",
      " 3   purch_ord_num          object        \n",
      " 4   sls_ord_num            int64         \n",
      " 5   dlvry_doc_num          int64         \n",
      " 6   sold_to_num            int64         \n",
      " 7   ship_to_num            int64         \n",
      " 8   matl_num               int64         \n",
      " 9   invc_num               int64         \n",
      " 10  sls_doc_typ            object        \n",
      " 11  plant_cd               object        \n",
      " 12  tms_load_id            object        \n",
      " 13  invc_create_dt         datetime64[ns]\n",
      " 14  sls_itm_subtotal_3     float64       \n",
      " 15  sls_itm_catg           object        \n",
      " 16  invc_itm_gross_weight  float64       \n",
      " 17  invc_itm_volume        float64       \n",
      " 18  DisplayItemFlag        int64         \n",
      " 19  ct_match               object        \n",
      " 20  line_ct_charges        float64       \n",
      " 21  line_glo_charges       float64       \n",
      " 22  fiscal_yr_mo           datetime64[ns]\n",
      " 23  kc_trim                int64         \n",
      " 24  invc_qty_ea            int64         \n",
      " 25  invc_qty_cs            int64         \n",
      "dtypes: datetime64[ns](2), float64(6), int64(11), object(7)\n",
      "memory usage: 1.7+ GB\n"
     ]
    }
   ],
   "source": [
    "df_ts.info()"
   ]
  },
  {
   "cell_type": "code",
   "execution_count": 21,
   "metadata": {},
   "outputs": [
    {
     "data": {
      "text/plain": [
       "RecordID                          int64\n",
       "vics_bol_num                     object\n",
       "shpmt_doc_num                   float64\n",
       "purch_ord_num                    object\n",
       "sls_ord_num                       int64\n",
       "dlvry_doc_num                     int64\n",
       "sold_to_num                       int64\n",
       "ship_to_num                       int64\n",
       "matl_num                          int64\n",
       "invc_num                          int64\n",
       "sls_doc_typ                      object\n",
       "plant_cd                         object\n",
       "tms_load_id                      object\n",
       "invc_create_dt           datetime64[ns]\n",
       "sls_itm_subtotal_3              float64\n",
       "sls_itm_catg                     object\n",
       "invc_itm_gross_weight           float64\n",
       "invc_itm_volume                 float64\n",
       "DisplayItemFlag                   int64\n",
       "ct_match                         object\n",
       "line_ct_charges                 float64\n",
       "line_glo_charges                float64\n",
       "fiscal_yr_mo             datetime64[ns]\n",
       "kc_trim                           int64\n",
       "invc_qty_ea                       int64\n",
       "invc_qty_cs                       int64\n",
       "dtype: object"
      ]
     },
     "execution_count": 21,
     "metadata": {},
     "output_type": "execute_result"
    }
   ],
   "source": [
    "df_ts.dtypes"
   ]
  },
  {
   "cell_type": "code",
   "execution_count": 22,
   "metadata": {},
   "outputs": [
    {
     "data": {
      "text/html": [
       "<div>\n",
       "<style scoped>\n",
       "    .dataframe tbody tr th:only-of-type {\n",
       "        vertical-align: middle;\n",
       "    }\n",
       "\n",
       "    .dataframe tbody tr th {\n",
       "        vertical-align: top;\n",
       "    }\n",
       "\n",
       "    .dataframe thead th {\n",
       "        text-align: right;\n",
       "    }\n",
       "</style>\n",
       "<table border=\"1\" class=\"dataframe\">\n",
       "  <thead>\n",
       "    <tr style=\"text-align: right;\">\n",
       "      <th></th>\n",
       "      <th>shpmt_doc_num</th>\n",
       "      <th>sls_ord_num</th>\n",
       "      <th>dlvry_doc_num</th>\n",
       "      <th>sold_to_num</th>\n",
       "      <th>ship_to_num</th>\n",
       "      <th>matl_num</th>\n",
       "      <th>invc_num</th>\n",
       "      <th>DisplayItemFlag</th>\n",
       "      <th>kc_trim</th>\n",
       "    </tr>\n",
       "  </thead>\n",
       "  <tbody>\n",
       "    <tr>\n",
       "      <th>0</th>\n",
       "      <td>1823014.0</td>\n",
       "      <td>16987272</td>\n",
       "      <td>87569406</td>\n",
       "      <td>40002164</td>\n",
       "      <td>40036679</td>\n",
       "      <td>111672475</td>\n",
       "      <td>9503465640</td>\n",
       "      <td>0</td>\n",
       "      <td>48176901</td>\n",
       "    </tr>\n",
       "    <tr>\n",
       "      <th>1</th>\n",
       "      <td>1823014.0</td>\n",
       "      <td>16987272</td>\n",
       "      <td>87569406</td>\n",
       "      <td>40002164</td>\n",
       "      <td>40036679</td>\n",
       "      <td>111747900</td>\n",
       "      <td>9503465640</td>\n",
       "      <td>0</td>\n",
       "      <td>48176901</td>\n",
       "    </tr>\n",
       "    <tr>\n",
       "      <th>2</th>\n",
       "      <td>1823014.0</td>\n",
       "      <td>16987272</td>\n",
       "      <td>87569406</td>\n",
       "      <td>40002164</td>\n",
       "      <td>40036679</td>\n",
       "      <td>111756100</td>\n",
       "      <td>9503465640</td>\n",
       "      <td>0</td>\n",
       "      <td>48176901</td>\n",
       "    </tr>\n",
       "    <tr>\n",
       "      <th>3</th>\n",
       "      <td>1823014.0</td>\n",
       "      <td>16987272</td>\n",
       "      <td>87569406</td>\n",
       "      <td>40002164</td>\n",
       "      <td>40036679</td>\n",
       "      <td>111756800</td>\n",
       "      <td>9503465640</td>\n",
       "      <td>0</td>\n",
       "      <td>48176901</td>\n",
       "    </tr>\n",
       "    <tr>\n",
       "      <th>4</th>\n",
       "      <td>1823014.0</td>\n",
       "      <td>16987272</td>\n",
       "      <td>87569406</td>\n",
       "      <td>40002164</td>\n",
       "      <td>40036679</td>\n",
       "      <td>111774700</td>\n",
       "      <td>9503465640</td>\n",
       "      <td>0</td>\n",
       "      <td>48176901</td>\n",
       "    </tr>\n",
       "    <tr>\n",
       "      <th>...</th>\n",
       "      <td>...</td>\n",
       "      <td>...</td>\n",
       "      <td>...</td>\n",
       "      <td>...</td>\n",
       "      <td>...</td>\n",
       "      <td>...</td>\n",
       "      <td>...</td>\n",
       "      <td>...</td>\n",
       "      <td>...</td>\n",
       "    </tr>\n",
       "    <tr>\n",
       "      <th>8973814</th>\n",
       "      <td>1990805.0</td>\n",
       "      <td>17659982</td>\n",
       "      <td>88278722</td>\n",
       "      <td>40000812</td>\n",
       "      <td>40012560</td>\n",
       "      <td>681243109</td>\n",
       "      <td>9503788324</td>\n",
       "      <td>0</td>\n",
       "      <td>48053701</td>\n",
       "    </tr>\n",
       "    <tr>\n",
       "      <th>8973815</th>\n",
       "      <td>1990805.0</td>\n",
       "      <td>17659982</td>\n",
       "      <td>88278722</td>\n",
       "      <td>40000812</td>\n",
       "      <td>40012560</td>\n",
       "      <td>681244001</td>\n",
       "      <td>9503788324</td>\n",
       "      <td>0</td>\n",
       "      <td>48053701</td>\n",
       "    </tr>\n",
       "    <tr>\n",
       "      <th>8973816</th>\n",
       "      <td>1990805.0</td>\n",
       "      <td>17659982</td>\n",
       "      <td>88278722</td>\n",
       "      <td>40000812</td>\n",
       "      <td>40012560</td>\n",
       "      <td>684384601</td>\n",
       "      <td>9503788324</td>\n",
       "      <td>0</td>\n",
       "      <td>48053701</td>\n",
       "    </tr>\n",
       "    <tr>\n",
       "      <th>8973817</th>\n",
       "      <td>1990805.0</td>\n",
       "      <td>17659982</td>\n",
       "      <td>88278722</td>\n",
       "      <td>40000812</td>\n",
       "      <td>40012560</td>\n",
       "      <td>684387900</td>\n",
       "      <td>9503788324</td>\n",
       "      <td>0</td>\n",
       "      <td>48053701</td>\n",
       "    </tr>\n",
       "    <tr>\n",
       "      <th>8973818</th>\n",
       "      <td>1990805.0</td>\n",
       "      <td>17659982</td>\n",
       "      <td>88278722</td>\n",
       "      <td>40000812</td>\n",
       "      <td>40012560</td>\n",
       "      <td>686700107</td>\n",
       "      <td>9503788324</td>\n",
       "      <td>0</td>\n",
       "      <td>48053701</td>\n",
       "    </tr>\n",
       "  </tbody>\n",
       "</table>\n",
       "<p>8973819 rows × 9 columns</p>\n",
       "</div>"
      ],
      "text/plain": [
       "        shpmt_doc_num sls_ord_num dlvry_doc_num sold_to_num ship_to_num  \\\n",
       "0           1823014.0    16987272      87569406    40002164    40036679   \n",
       "1           1823014.0    16987272      87569406    40002164    40036679   \n",
       "2           1823014.0    16987272      87569406    40002164    40036679   \n",
       "3           1823014.0    16987272      87569406    40002164    40036679   \n",
       "4           1823014.0    16987272      87569406    40002164    40036679   \n",
       "...               ...         ...           ...         ...         ...   \n",
       "8973814     1990805.0    17659982      88278722    40000812    40012560   \n",
       "8973815     1990805.0    17659982      88278722    40000812    40012560   \n",
       "8973816     1990805.0    17659982      88278722    40000812    40012560   \n",
       "8973817     1990805.0    17659982      88278722    40000812    40012560   \n",
       "8973818     1990805.0    17659982      88278722    40000812    40012560   \n",
       "\n",
       "          matl_num    invc_num DisplayItemFlag   kc_trim  \n",
       "0        111672475  9503465640               0  48176901  \n",
       "1        111747900  9503465640               0  48176901  \n",
       "2        111756100  9503465640               0  48176901  \n",
       "3        111756800  9503465640               0  48176901  \n",
       "4        111774700  9503465640               0  48176901  \n",
       "...            ...         ...             ...       ...  \n",
       "8973814  681243109  9503788324               0  48053701  \n",
       "8973815  681244001  9503788324               0  48053701  \n",
       "8973816  684384601  9503788324               0  48053701  \n",
       "8973817  684387900  9503788324               0  48053701  \n",
       "8973818  686700107  9503788324               0  48053701  \n",
       "\n",
       "[8973819 rows x 9 columns]"
      ]
     },
     "execution_count": 22,
     "metadata": {},
     "output_type": "execute_result"
    }
   ],
   "source": [
    "df[['shpmt_doc_num', 'sls_ord_num', 'dlvry_doc_num', 'sold_to_num','ship_to_num','matl_num','invc_num','DisplayItemFlag', 'kc_trim']].apply(lambda x: x.astype('category'))"
   ]
  },
  {
   "cell_type": "code",
   "execution_count": 22,
   "metadata": {},
   "outputs": [],
   "source": [
    "df_ts[df_ts.select_dtypes(['object']).columns] = df_ts.select_dtypes(['object']).apply(lambda x: x.astype('category'))"
   ]
  },
  {
   "cell_type": "code",
   "execution_count": 23,
   "metadata": {},
   "outputs": [
    {
     "data": {
      "text/plain": [
       "RecordID                          int64\n",
       "vics_bol_num                   category\n",
       "shpmt_doc_num                   float64\n",
       "purch_ord_num                  category\n",
       "sls_ord_num                       int64\n",
       "dlvry_doc_num                     int64\n",
       "sold_to_num                       int64\n",
       "ship_to_num                       int64\n",
       "matl_num                          int64\n",
       "invc_num                          int64\n",
       "sls_doc_typ                    category\n",
       "plant_cd                       category\n",
       "tms_load_id                    category\n",
       "invc_create_dt           datetime64[ns]\n",
       "sls_itm_subtotal_3              float64\n",
       "sls_itm_catg                   category\n",
       "invc_itm_gross_weight           float64\n",
       "invc_itm_volume                 float64\n",
       "DisplayItemFlag                   int64\n",
       "ct_match                       category\n",
       "line_ct_charges                 float64\n",
       "line_glo_charges                float64\n",
       "fiscal_yr_mo             datetime64[ns]\n",
       "kc_trim                           int64\n",
       "invc_qty_ea                       int64\n",
       "invc_qty_cs                       int64\n",
       "dtype: object"
      ]
     },
     "execution_count": 23,
     "metadata": {},
     "output_type": "execute_result"
    }
   ],
   "source": [
    "df_ts.dtypes"
   ]
  },
  {
   "cell_type": "code",
   "execution_count": 24,
   "metadata": {},
   "outputs": [
    {
     "name": "stdout",
     "output_type": "stream",
     "text": [
      "----------------------------------------RecordID---------------------------------------- - 1          1\n",
      "2991276    1\n",
      "8973816    1\n",
      "8973817    1\n",
      "8973818    1\n",
      "8973819    1\n",
      "2991274    1\n",
      "2991275    1\n",
      "2991277    1\n",
      "2991319    1\n",
      "Name: RecordID, dtype: int64\n",
      "----------------------------------------vics_bol_num---------------------------------------- - 3813714186964991    4935\n",
      "3813714341611999    4815\n",
      "3813714180284996    4705\n",
      "3813714359044994    4654\n",
      "3813714191012991    4627\n",
      "3813714181101995    4575\n",
      "3813714338938993    4557\n",
      "3813714184764999    4458\n",
      "3813714180285993    4417\n",
      "3813714176015993    4374\n",
      "Name: vics_bol_num, dtype: int64\n",
      "----------------------------------------shpmt_doc_num---------------------------------------- - 1904484.0    4935\n",
      "2028581.0    4815\n",
      "1899074.0    4705\n",
      "2042829.0    4654\n",
      "1907600.0    4627\n",
      "1899690.0    4575\n",
      "2026731.0    4557\n",
      "1902367.0    4458\n",
      "1899090.0    4417\n",
      "1895540.0    4374\n",
      "Name: shpmt_doc_num, dtype: int64\n",
      "----------------------------------------purch_ord_num---------------------------------------- - 7805295161    4935\n",
      "4403407856    4815\n",
      "6305765070    4705\n",
      "4403407969    4654\n",
      "6305775190    4627\n",
      "6410564838    4575\n",
      "2855766986    4557\n",
      "4805765040    4458\n",
      "6805675019    4417\n",
      "7805295087    4374\n",
      "Name: purch_ord_num, dtype: int64\n",
      "----------------------------------------sls_ord_num---------------------------------------- - 17052473    421\n",
      "17016785    419\n",
      "17029771    413\n",
      "17005818    402\n",
      "17062928    399\n",
      "17040655    393\n",
      "17076160    380\n",
      "17016919    373\n",
      "17005805    356\n",
      "17098870    349\n",
      "Name: sls_ord_num, dtype: int64\n",
      "----------------------------------------dlvry_doc_num---------------------------------------- - 87644004    421\n",
      "87606783    419\n",
      "87613878    413\n",
      "87593494    402\n",
      "87656984    399\n",
      "87630675    393\n",
      "87669555    380\n",
      "87606831    373\n",
      "87593440    356\n",
      "87694277    349\n",
      "Name: dlvry_doc_num, dtype: int64\n",
      "----------------------------------------sold_to_num---------------------------------------- - 40000812    3704297\n",
      "40007152    3191571\n",
      "40001718    1356533\n",
      "40007269     426063\n",
      "40002164     153663\n",
      "40007153     114229\n",
      "40001186      27463\n",
      "Name: sold_to_num, dtype: int64\n",
      "----------------------------------------ship_to_num---------------------------------------- - 40011268    123826\n",
      "40011275    115399\n",
      "40011262    114008\n",
      "40011272    113256\n",
      "40011266    110054\n",
      "40011322    106947\n",
      "40011270    103280\n",
      "40012560    101380\n",
      "40015834    101210\n",
      "40011248    100520\n",
      "Name: ship_to_num, dtype: int64\n",
      "----------------------------------------matl_num---------------------------------------- - 680074603    78859\n",
      "681243109    77864\n",
      "681243705    42120\n",
      "680059102    38069\n",
      "686700407    37070\n",
      "684388103    36354\n",
      "681050304    35701\n",
      "684379500    35616\n",
      "681243805    34114\n",
      "681248100    33967\n",
      "Name: matl_num, dtype: int64\n",
      "----------------------------------------invc_num---------------------------------------- - 9503634464    4935\n",
      "9503895910    4815\n",
      "9503625317    4705\n",
      "9503889246    4654\n",
      "9503635690    4627\n",
      "9503621284    4575\n",
      "9503870963    4557\n",
      "9503626213    4458\n",
      "9503620555    4417\n",
      "9503614816    4374\n",
      "Name: invc_num, dtype: int64\n",
      "----------------------------------------sls_doc_typ---------------------------------------- - ZTOR    5269522\n",
      "ZCDO    3704297\n",
      "Name: sls_doc_typ, dtype: int64\n",
      "----------------------------------------plant_cd---------------------------------------- - US65    3704533\n",
      "US19    2381005\n",
      "US13    1669416\n",
      "US16    1218856\n",
      "US11          9\n",
      "Name: plant_cd, dtype: int64\n",
      "----------------------------------------tms_load_id---------------------------------------- - 14186964.0    4935\n",
      "14341611      4815\n",
      "14180284.0    4705\n",
      "14359044      4654\n",
      "14191012.0    4627\n",
      "14181101.0    4575\n",
      "14338938      4557\n",
      "14184764.0    4458\n",
      "14180285.0    4417\n",
      "14176015.0    4374\n",
      "Name: tms_load_id, dtype: int64\n",
      "----------------------------------------invc_create_dt---------------------------------------- - 2020-01-31    52236\n",
      "2020-02-20    49155\n",
      "2020-07-16    48338\n",
      "2020-07-10    48193\n",
      "2020-01-10    47960\n",
      "2020-03-07    45181\n",
      "2020-02-22    45036\n",
      "2021-06-24    43259\n",
      "2021-03-15    42752\n",
      "2021-07-02    42162\n",
      "Name: invc_create_dt, dtype: int64\n",
      "----------------------------------------sls_itm_subtotal_3---------------------------------------- - 16.22    393144\n",
      "16.82    386548\n",
      "15.58    167049\n",
      "10.12    145908\n",
      "5.71     120787\n",
      "19.44    117147\n",
      "5.36     116606\n",
      "16.30    116593\n",
      "16.90    112751\n",
      "10.20     93262\n",
      "Name: sls_itm_subtotal_3, dtype: int64\n",
      "----------------------------------------sls_itm_catg---------------------------------------- - TAN     8886197\n",
      "ZTAQ      87622\n",
      "Name: sls_itm_catg, dtype: int64\n",
      "----------------------------------------invc_itm_gross_weight---------------------------------------- - 0.517    176522\n",
      "0.041    158251\n",
      "0.055    157610\n",
      "0.168    156893\n",
      "0.272    155446\n",
      "0.455    153939\n",
      "0.279    128003\n",
      "0.266    126999\n",
      "0.322    113221\n",
      "0.109    104394\n",
      "Name: invc_itm_gross_weight, dtype: int64\n",
      "----------------------------------------invc_itm_volume---------------------------------------- - 0.012    935741\n",
      "0.002    322983\n",
      "0.011    277976\n",
      "0.010    262202\n",
      "0.013    216454\n",
      "0.005    201306\n",
      "0.017    175331\n",
      "0.003    156479\n",
      "0.019    113445\n",
      "0.021    101550\n",
      "Name: invc_itm_volume, dtype: int64\n",
      "----------------------------------------DisplayItemFlag---------------------------------------- - 0    8886197\n",
      "1      87622\n",
      "Name: DisplayItemFlag, dtype: int64\n",
      "----------------------------------------ct_match---------------------------------------- - y    4849444\n",
      "n    4104520\n",
      "Name: ct_match, dtype: int64\n",
      "----------------------------------------line_ct_charges---------------------------------------- - 0.000000      4152523\n",
      "120.400000        212\n",
      "0.014048          127\n",
      "0.031069          120\n",
      "0.111884          113\n",
      "0.033253          112\n",
      "0.021043          111\n",
      "0.210923          111\n",
      "0.029913          110\n",
      "0.111513          109\n",
      "Name: line_ct_charges, dtype: int64\n",
      "----------------------------------------line_glo_charges---------------------------------------- - 0.000000      112937\n",
      "0.003420        1296\n",
      "0.000369         998\n",
      "0.060342         953\n",
      "0.043891         951\n",
      "0.054011         906\n",
      "0.005426         899\n",
      "0.021828         894\n",
      "371.295000       889\n",
      "0.000385         879\n",
      "Name: line_glo_charges, dtype: int64\n",
      "----------------------------------------fiscal_yr_mo---------------------------------------- - 2020-03-01    716818\n",
      "2020-07-01    641290\n",
      "2021-06-01    620631\n",
      "2021-03-01    610382\n",
      "2020-02-01    556138\n",
      "2020-01-01    510587\n",
      "2020-09-01    498529\n",
      "2020-12-01    483190\n",
      "2021-05-01    475446\n",
      "2021-04-01    442496\n",
      "Name: fiscal_yr_mo, dtype: int64\n",
      "----------------------------------------kc_trim---------------------------------------- - 48053701    7010097\n",
      "48050602    1356533\n",
      "48006701     426063\n",
      "48176901     153663\n",
      "48144001      27463\n",
      "Name: kc_trim, dtype: int64\n",
      "----------------------------------------invc_qty_ea---------------------------------------- - 2      2724364\n",
      "24      634830\n",
      "4       429208\n",
      "1       414342\n",
      "48      410984\n",
      "12      399530\n",
      "36      375919\n",
      "72      329532\n",
      "96      182044\n",
      "144     162283\n",
      "Name: invc_qty_ea, dtype: int64\n",
      "----------------------------------------invc_qty_cs---------------------------------------- - 0     3705429\n",
      "1      832159\n",
      "2      725427\n",
      "3      488389\n",
      "4      358304\n",
      "5      270036\n",
      "6      229183\n",
      "7      167873\n",
      "8      154198\n",
      "10     143842\n",
      "Name: invc_qty_cs, dtype: int64\n"
     ]
    }
   ],
   "source": [
    "for col in df_ts.columns:\n",
    "    print('-' * 40 + col + '-' * 40 , end=' - ')\n",
    "    print(df_ts[col].value_counts().head(10))"
   ]
  },
  {
   "cell_type": "code",
   "execution_count": 25,
   "metadata": {},
   "outputs": [
    {
     "data": {
      "text/html": [
       "<div>\n",
       "<style scoped>\n",
       "    .dataframe tbody tr th:only-of-type {\n",
       "        vertical-align: middle;\n",
       "    }\n",
       "\n",
       "    .dataframe tbody tr th {\n",
       "        vertical-align: top;\n",
       "    }\n",
       "\n",
       "    .dataframe thead th {\n",
       "        text-align: right;\n",
       "    }\n",
       "</style>\n",
       "<table border=\"1\" class=\"dataframe\">\n",
       "  <thead>\n",
       "    <tr style=\"text-align: right;\">\n",
       "      <th></th>\n",
       "      <th>matl_num</th>\n",
       "    </tr>\n",
       "  </thead>\n",
       "  <tbody>\n",
       "    <tr>\n",
       "      <th>680074603</th>\n",
       "      <td>78859</td>\n",
       "    </tr>\n",
       "    <tr>\n",
       "      <th>681243109</th>\n",
       "      <td>77864</td>\n",
       "    </tr>\n",
       "    <tr>\n",
       "      <th>681243705</th>\n",
       "      <td>42120</td>\n",
       "    </tr>\n",
       "    <tr>\n",
       "      <th>680059102</th>\n",
       "      <td>38069</td>\n",
       "    </tr>\n",
       "    <tr>\n",
       "      <th>686700407</th>\n",
       "      <td>37070</td>\n",
       "    </tr>\n",
       "    <tr>\n",
       "      <th>...</th>\n",
       "      <td>...</td>\n",
       "    </tr>\n",
       "    <tr>\n",
       "      <th>205425680</th>\n",
       "      <td>1</td>\n",
       "    </tr>\n",
       "    <tr>\n",
       "      <th>409004000</th>\n",
       "      <td>1</td>\n",
       "    </tr>\n",
       "    <tr>\n",
       "      <th>680535505</th>\n",
       "      <td>1</td>\n",
       "    </tr>\n",
       "    <tr>\n",
       "      <th>111772300</th>\n",
       "      <td>1</td>\n",
       "    </tr>\n",
       "    <tr>\n",
       "      <th>510814914</th>\n",
       "      <td>1</td>\n",
       "    </tr>\n",
       "  </tbody>\n",
       "</table>\n",
       "<p>3194 rows × 1 columns</p>\n",
       "</div>"
      ],
      "text/plain": [
       "           matl_num\n",
       "680074603     78859\n",
       "681243109     77864\n",
       "681243705     42120\n",
       "680059102     38069\n",
       "686700407     37070\n",
       "...             ...\n",
       "205425680         1\n",
       "409004000         1\n",
       "680535505         1\n",
       "111772300         1\n",
       "510814914         1\n",
       "\n",
       "[3194 rows x 1 columns]"
      ]
     },
     "execution_count": 25,
     "metadata": {},
     "output_type": "execute_result"
    }
   ],
   "source": [
    "df_ts.matl_num.value_counts().to_frame()"
   ]
  },
  {
   "cell_type": "code",
   "execution_count": 26,
   "metadata": {},
   "outputs": [
    {
     "data": {
      "text/plain": [
       "(Timestamp('2019-12-30 00:00:00'), Timestamp('2021-08-01 00:00:00'))"
      ]
     },
     "execution_count": 26,
     "metadata": {},
     "output_type": "execute_result"
    }
   ],
   "source": [
    "df_ts['invc_create_dt'].min(), df_ts['invc_create_dt'].max()"
   ]
  },
  {
   "cell_type": "code",
   "execution_count": 27,
   "metadata": {},
   "outputs": [
    {
     "data": {
      "text/plain": [
       "ZTOR    5269522\n",
       "ZCDO    3704297\n",
       "Name: sls_doc_typ, dtype: int64"
      ]
     },
     "execution_count": 27,
     "metadata": {},
     "output_type": "execute_result"
    }
   ],
   "source": [
    "df_ts.sls_doc_typ.value_counts()"
   ]
  },
  {
   "cell_type": "code",
   "execution_count": 28,
   "metadata": {},
   "outputs": [
    {
     "data": {
      "text/plain": [
       "RecordID                     0\n",
       "vics_bol_num                 0\n",
       "shpmt_doc_num                0\n",
       "purch_ord_num                0\n",
       "sls_ord_num                  0\n",
       "dlvry_doc_num                0\n",
       "sold_to_num                  0\n",
       "ship_to_num                  0\n",
       "matl_num                     0\n",
       "invc_num                     0\n",
       "sls_doc_typ                  0\n",
       "plant_cd                     0\n",
       "tms_load_id                  8\n",
       "invc_create_dt               0\n",
       "sls_itm_subtotal_3           0\n",
       "sls_itm_catg                 0\n",
       "invc_itm_gross_weight        0\n",
       "invc_itm_volume              0\n",
       "DisplayItemFlag              0\n",
       "ct_match                 19855\n",
       "line_ct_charges              0\n",
       "line_glo_charges             0\n",
       "fiscal_yr_mo                 0\n",
       "kc_trim                      0\n",
       "invc_qty_ea                  0\n",
       "invc_qty_cs                  0\n",
       "dtype: int64"
      ]
     },
     "execution_count": 28,
     "metadata": {},
     "output_type": "execute_result"
    }
   ],
   "source": [
    "df_ts.isna().sum()"
   ]
  },
  {
   "cell_type": "code",
   "execution_count": 29,
   "metadata": {},
   "outputs": [
    {
     "data": {
      "text/html": [
       "<div>\n",
       "<style scoped>\n",
       "    .dataframe tbody tr th:only-of-type {\n",
       "        vertical-align: middle;\n",
       "    }\n",
       "\n",
       "    .dataframe tbody tr th {\n",
       "        vertical-align: top;\n",
       "    }\n",
       "\n",
       "    .dataframe thead th {\n",
       "        text-align: right;\n",
       "    }\n",
       "</style>\n",
       "<table border=\"1\" class=\"dataframe\">\n",
       "  <thead>\n",
       "    <tr style=\"text-align: right;\">\n",
       "      <th></th>\n",
       "      <th>RecordID</th>\n",
       "      <th>shpmt_doc_num</th>\n",
       "      <th>sls_ord_num</th>\n",
       "      <th>dlvry_doc_num</th>\n",
       "      <th>sold_to_num</th>\n",
       "      <th>ship_to_num</th>\n",
       "      <th>matl_num</th>\n",
       "      <th>invc_num</th>\n",
       "      <th>sls_itm_subtotal_3</th>\n",
       "      <th>invc_itm_gross_weight</th>\n",
       "      <th>invc_itm_volume</th>\n",
       "      <th>DisplayItemFlag</th>\n",
       "      <th>line_ct_charges</th>\n",
       "      <th>line_glo_charges</th>\n",
       "      <th>kc_trim</th>\n",
       "      <th>invc_qty_ea</th>\n",
       "      <th>invc_qty_cs</th>\n",
       "    </tr>\n",
       "  </thead>\n",
       "  <tbody>\n",
       "    <tr>\n",
       "      <th>count</th>\n",
       "      <td>8.97382e+06</td>\n",
       "      <td>8.97382e+06</td>\n",
       "      <td>8.97382e+06</td>\n",
       "      <td>8.97382e+06</td>\n",
       "      <td>8.97382e+06</td>\n",
       "      <td>8.97382e+06</td>\n",
       "      <td>8.97382e+06</td>\n",
       "      <td>8.97382e+06</td>\n",
       "      <td>8.97382e+06</td>\n",
       "      <td>8.97382e+06</td>\n",
       "      <td>8.97382e+06</td>\n",
       "      <td>8.97382e+06</td>\n",
       "      <td>8.97382e+06</td>\n",
       "      <td>8.97382e+06</td>\n",
       "      <td>8.97382e+06</td>\n",
       "      <td>8.97382e+06</td>\n",
       "      <td>8.97382e+06</td>\n",
       "    </tr>\n",
       "    <tr>\n",
       "      <th>mean</th>\n",
       "      <td>4.48691e+06</td>\n",
       "      <td>1.9473e+06</td>\n",
       "      <td>1.74814e+07</td>\n",
       "      <td>8.80921e+07</td>\n",
       "      <td>4.00036e+07</td>\n",
       "      <td>4.00062e+07</td>\n",
       "      <td>5.07453e+08</td>\n",
       "      <td>9.5037e+09</td>\n",
       "      <td>838.917</td>\n",
       "      <td>94.8849</td>\n",
       "      <td>7.32626</td>\n",
       "      <td>0.00976418</td>\n",
       "      <td>4.96849</td>\n",
       "      <td>5.03811</td>\n",
       "      <td>4.80534e+07</td>\n",
       "      <td>231.392</td>\n",
       "      <td>13.7706</td>\n",
       "    </tr>\n",
       "    <tr>\n",
       "      <th>std</th>\n",
       "      <td>2.59052e+06</td>\n",
       "      <td>76707.3</td>\n",
       "      <td>303804</td>\n",
       "      <td>316939</td>\n",
       "      <td>3013.95</td>\n",
       "      <td>7476.9</td>\n",
       "      <td>2.27938e+08</td>\n",
       "      <td>149066</td>\n",
       "      <td>5268.67</td>\n",
       "      <td>748.853</td>\n",
       "      <td>65.9012</td>\n",
       "      <td>0.0983303</td>\n",
       "      <td>55.1898</td>\n",
       "      <td>56.9842</td>\n",
       "      <td>19776</td>\n",
       "      <td>12258</td>\n",
       "      <td>99.0197</td>\n",
       "    </tr>\n",
       "    <tr>\n",
       "      <th>min</th>\n",
       "      <td>1</td>\n",
       "      <td>1.82192e+06</td>\n",
       "      <td>1.68445e+07</td>\n",
       "      <td>8.75645e+07</td>\n",
       "      <td>4.00008e+07</td>\n",
       "      <td>4e+07</td>\n",
       "      <td>3.2043e+07</td>\n",
       "      <td>9.50347e+09</td>\n",
       "      <td>0.24</td>\n",
       "      <td>0</td>\n",
       "      <td>0</td>\n",
       "      <td>0</td>\n",
       "      <td>-93.9275</td>\n",
       "      <td>0</td>\n",
       "      <td>4.80067e+07</td>\n",
       "      <td>0</td>\n",
       "      <td>0</td>\n",
       "    </tr>\n",
       "    <tr>\n",
       "      <th>25%</th>\n",
       "      <td>2.24346e+06</td>\n",
       "      <td>1.87955e+06</td>\n",
       "      <td>1.72169e+07</td>\n",
       "      <td>8.78163e+07</td>\n",
       "      <td>4.00008e+07</td>\n",
       "      <td>4.00003e+07</td>\n",
       "      <td>4.018e+08</td>\n",
       "      <td>9.50357e+09</td>\n",
       "      <td>16.22</td>\n",
       "      <td>0.274</td>\n",
       "      <td>0.012</td>\n",
       "      <td>0</td>\n",
       "      <td>0</td>\n",
       "      <td>0.00782977</td>\n",
       "      <td>4.80537e+07</td>\n",
       "      <td>2</td>\n",
       "      <td>0</td>\n",
       "    </tr>\n",
       "    <tr>\n",
       "      <th>50%</th>\n",
       "      <td>4.48691e+06</td>\n",
       "      <td>1.94317e+06</td>\n",
       "      <td>1.74698e+07</td>\n",
       "      <td>8.80828e+07</td>\n",
       "      <td>4.00017e+07</td>\n",
       "      <td>4.00004e+07</td>\n",
       "      <td>6.80075e+08</td>\n",
       "      <td>9.5037e+09</td>\n",
       "      <td>103.32</td>\n",
       "      <td>6.08</td>\n",
       "      <td>0.401</td>\n",
       "      <td>0</td>\n",
       "      <td>0.105714</td>\n",
       "      <td>0.159063</td>\n",
       "      <td>4.80537e+07</td>\n",
       "      <td>24</td>\n",
       "      <td>1</td>\n",
       "    </tr>\n",
       "    <tr>\n",
       "      <th>75%</th>\n",
       "      <td>6.73036e+06</td>\n",
       "      <td>2.01649e+06</td>\n",
       "      <td>1.77555e+07</td>\n",
       "      <td>8.83788e+07</td>\n",
       "      <td>4.00072e+07</td>\n",
       "      <td>4.00113e+07</td>\n",
       "      <td>6.81961e+08</td>\n",
       "      <td>9.50384e+09</td>\n",
       "      <td>482.76</td>\n",
       "      <td>41.5</td>\n",
       "      <td>2.196</td>\n",
       "      <td>0</td>\n",
       "      <td>1.37873</td>\n",
       "      <td>1.43771</td>\n",
       "      <td>4.80537e+07</td>\n",
       "      <td>96</td>\n",
       "      <td>7</td>\n",
       "    </tr>\n",
       "    <tr>\n",
       "      <th>max</th>\n",
       "      <td>8.97382e+06</td>\n",
       "      <td>2.08284e+06</td>\n",
       "      <td>1.8016e+07</td>\n",
       "      <td>8.86443e+07</td>\n",
       "      <td>4.00073e+07</td>\n",
       "      <td>4.00382e+07</td>\n",
       "      <td>8.09306e+08</td>\n",
       "      <td>9.50396e+09</td>\n",
       "      <td>1.41049e+06</td>\n",
       "      <td>45150</td>\n",
       "      <td>3889.25</td>\n",
       "      <td>1</td>\n",
       "      <td>10941.5</td>\n",
       "      <td>9380.92</td>\n",
       "      <td>4.81769e+07</td>\n",
       "      <td>1.25971e+07</td>\n",
       "      <td>19440</td>\n",
       "    </tr>\n",
       "  </tbody>\n",
       "</table>\n",
       "</div>"
      ],
      "text/plain": [
       "          RecordID shpmt_doc_num  sls_ord_num dlvry_doc_num  sold_to_num  \\\n",
       "count  8.97382e+06   8.97382e+06  8.97382e+06   8.97382e+06  8.97382e+06   \n",
       "mean   4.48691e+06    1.9473e+06  1.74814e+07   8.80921e+07  4.00036e+07   \n",
       "std    2.59052e+06       76707.3       303804        316939      3013.95   \n",
       "min              1   1.82192e+06  1.68445e+07   8.75645e+07  4.00008e+07   \n",
       "25%    2.24346e+06   1.87955e+06  1.72169e+07   8.78163e+07  4.00008e+07   \n",
       "50%    4.48691e+06   1.94317e+06  1.74698e+07   8.80828e+07  4.00017e+07   \n",
       "75%    6.73036e+06   2.01649e+06  1.77555e+07   8.83788e+07  4.00072e+07   \n",
       "max    8.97382e+06   2.08284e+06   1.8016e+07   8.86443e+07  4.00073e+07   \n",
       "\n",
       "       ship_to_num     matl_num     invc_num sls_itm_subtotal_3  \\\n",
       "count  8.97382e+06  8.97382e+06  8.97382e+06        8.97382e+06   \n",
       "mean   4.00062e+07  5.07453e+08   9.5037e+09            838.917   \n",
       "std         7476.9  2.27938e+08       149066            5268.67   \n",
       "min          4e+07   3.2043e+07  9.50347e+09               0.24   \n",
       "25%    4.00003e+07    4.018e+08  9.50357e+09              16.22   \n",
       "50%    4.00004e+07  6.80075e+08   9.5037e+09             103.32   \n",
       "75%    4.00113e+07  6.81961e+08  9.50384e+09             482.76   \n",
       "max    4.00382e+07  8.09306e+08  9.50396e+09        1.41049e+06   \n",
       "\n",
       "      invc_itm_gross_weight invc_itm_volume DisplayItemFlag line_ct_charges  \\\n",
       "count           8.97382e+06     8.97382e+06     8.97382e+06     8.97382e+06   \n",
       "mean                94.8849         7.32626      0.00976418         4.96849   \n",
       "std                 748.853         65.9012       0.0983303         55.1898   \n",
       "min                       0               0               0        -93.9275   \n",
       "25%                   0.274           0.012               0               0   \n",
       "50%                    6.08           0.401               0        0.105714   \n",
       "75%                    41.5           2.196               0         1.37873   \n",
       "max                   45150         3889.25               1         10941.5   \n",
       "\n",
       "      line_glo_charges      kc_trim  invc_qty_ea  invc_qty_cs  \n",
       "count      8.97382e+06  8.97382e+06  8.97382e+06  8.97382e+06  \n",
       "mean           5.03811  4.80534e+07      231.392      13.7706  \n",
       "std            56.9842        19776        12258      99.0197  \n",
       "min                  0  4.80067e+07            0            0  \n",
       "25%         0.00782977  4.80537e+07            2            0  \n",
       "50%           0.159063  4.80537e+07           24            1  \n",
       "75%            1.43771  4.80537e+07           96            7  \n",
       "max            9380.92  4.81769e+07  1.25971e+07        19440  "
      ]
     },
     "execution_count": 29,
     "metadata": {},
     "output_type": "execute_result"
    }
   ],
   "source": [
    "pd.options.display.float_format = '{:.0f}'.format\n",
    "df_ts.describe().apply(lambda s: s.apply('{0:.01f}'.format))\n",
    "df_ts.describe().apply(lambda s: s.apply(lambda x: format(x, 'g')))"
   ]
  },
  {
   "cell_type": "code",
   "execution_count": 30,
   "metadata": {},
   "outputs": [
    {
     "data": {
      "text/plain": [
       "0   2020-01-01\n",
       "1   2020-01-01\n",
       "2   2020-01-01\n",
       "3   2020-01-01\n",
       "4   2020-01-01\n",
       "Name: fiscal_yr_mo, dtype: datetime64[ns]"
      ]
     },
     "execution_count": 30,
     "metadata": {},
     "output_type": "execute_result"
    }
   ],
   "source": [
    "df_ts.fiscal_yr_mo.head()"
   ]
  },
  {
   "cell_type": "code",
   "execution_count": 31,
   "metadata": {},
   "outputs": [
    {
     "data": {
      "text/html": [
       "<div>\n",
       "<style scoped>\n",
       "    .dataframe tbody tr th:only-of-type {\n",
       "        vertical-align: middle;\n",
       "    }\n",
       "\n",
       "    .dataframe tbody tr th {\n",
       "        vertical-align: top;\n",
       "    }\n",
       "\n",
       "    .dataframe thead th {\n",
       "        text-align: right;\n",
       "    }\n",
       "</style>\n",
       "<table border=\"1\" class=\"dataframe\">\n",
       "  <thead>\n",
       "    <tr style=\"text-align: right;\">\n",
       "      <th></th>\n",
       "      <th>RecordID</th>\n",
       "      <th>invc_create_dt</th>\n",
       "      <th>fiscal_yr_mo</th>\n",
       "    </tr>\n",
       "  </thead>\n",
       "  <tbody>\n",
       "    <tr>\n",
       "      <th>0</th>\n",
       "      <td>1</td>\n",
       "      <td>2019-12-30</td>\n",
       "      <td>2020-01-01</td>\n",
       "    </tr>\n",
       "    <tr>\n",
       "      <th>1</th>\n",
       "      <td>2</td>\n",
       "      <td>2019-12-30</td>\n",
       "      <td>2020-01-01</td>\n",
       "    </tr>\n",
       "    <tr>\n",
       "      <th>2</th>\n",
       "      <td>3</td>\n",
       "      <td>2019-12-30</td>\n",
       "      <td>2020-01-01</td>\n",
       "    </tr>\n",
       "    <tr>\n",
       "      <th>3</th>\n",
       "      <td>4</td>\n",
       "      <td>2019-12-30</td>\n",
       "      <td>2020-01-01</td>\n",
       "    </tr>\n",
       "    <tr>\n",
       "      <th>4</th>\n",
       "      <td>5</td>\n",
       "      <td>2019-12-30</td>\n",
       "      <td>2020-01-01</td>\n",
       "    </tr>\n",
       "    <tr>\n",
       "      <th>5</th>\n",
       "      <td>6</td>\n",
       "      <td>2019-12-30</td>\n",
       "      <td>2020-01-01</td>\n",
       "    </tr>\n",
       "  </tbody>\n",
       "</table>\n",
       "</div>"
      ],
      "text/plain": [
       "   RecordID invc_create_dt fiscal_yr_mo\n",
       "0         1     2019-12-30   2020-01-01\n",
       "1         2     2019-12-30   2020-01-01\n",
       "2         3     2019-12-30   2020-01-01\n",
       "3         4     2019-12-30   2020-01-01\n",
       "4         5     2019-12-30   2020-01-01\n",
       "5         6     2019-12-30   2020-01-01"
      ]
     },
     "execution_count": 31,
     "metadata": {},
     "output_type": "execute_result"
    }
   ],
   "source": [
    "df_ts.loc[:5,['RecordID', 'invc_create_dt','fiscal_yr_mo']]"
   ]
  },
  {
   "cell_type": "code",
   "execution_count": 32,
   "metadata": {},
   "outputs": [
    {
     "data": {
      "text/html": [
       "<div>\n",
       "<style scoped>\n",
       "    .dataframe tbody tr th:only-of-type {\n",
       "        vertical-align: middle;\n",
       "    }\n",
       "\n",
       "    .dataframe tbody tr th {\n",
       "        vertical-align: top;\n",
       "    }\n",
       "\n",
       "    .dataframe thead th {\n",
       "        text-align: right;\n",
       "    }\n",
       "</style>\n",
       "<table border=\"1\" class=\"dataframe\">\n",
       "  <thead>\n",
       "    <tr style=\"text-align: right;\">\n",
       "      <th></th>\n",
       "      <th>RecordID</th>\n",
       "      <th>invc_create_dt</th>\n",
       "      <th>fiscal_yr_mo</th>\n",
       "    </tr>\n",
       "  </thead>\n",
       "  <tbody>\n",
       "    <tr>\n",
       "      <th>8973813</th>\n",
       "      <td>5982541</td>\n",
       "      <td>2021-01-27</td>\n",
       "      <td>2021-01-01</td>\n",
       "    </tr>\n",
       "    <tr>\n",
       "      <th>8973814</th>\n",
       "      <td>5982542</td>\n",
       "      <td>2021-01-27</td>\n",
       "      <td>2021-01-01</td>\n",
       "    </tr>\n",
       "    <tr>\n",
       "      <th>8973815</th>\n",
       "      <td>5982543</td>\n",
       "      <td>2021-01-27</td>\n",
       "      <td>2021-01-01</td>\n",
       "    </tr>\n",
       "    <tr>\n",
       "      <th>8973816</th>\n",
       "      <td>5982544</td>\n",
       "      <td>2021-01-27</td>\n",
       "      <td>2021-01-01</td>\n",
       "    </tr>\n",
       "    <tr>\n",
       "      <th>8973817</th>\n",
       "      <td>5982545</td>\n",
       "      <td>2021-01-27</td>\n",
       "      <td>2021-01-01</td>\n",
       "    </tr>\n",
       "    <tr>\n",
       "      <th>8973818</th>\n",
       "      <td>5982546</td>\n",
       "      <td>2021-01-27</td>\n",
       "      <td>2021-01-01</td>\n",
       "    </tr>\n",
       "  </tbody>\n",
       "</table>\n",
       "</div>"
      ],
      "text/plain": [
       "         RecordID invc_create_dt fiscal_yr_mo\n",
       "8973813   5982541     2021-01-27   2021-01-01\n",
       "8973814   5982542     2021-01-27   2021-01-01\n",
       "8973815   5982543     2021-01-27   2021-01-01\n",
       "8973816   5982544     2021-01-27   2021-01-01\n",
       "8973817   5982545     2021-01-27   2021-01-01\n",
       "8973818   5982546     2021-01-27   2021-01-01"
      ]
     },
     "execution_count": 32,
     "metadata": {},
     "output_type": "execute_result"
    }
   ],
   "source": [
    "df_ts.loc[8973813:8973818,['RecordID', 'invc_create_dt','fiscal_yr_mo']]"
   ]
  },
  {
   "cell_type": "code",
   "execution_count": 33,
   "metadata": {},
   "outputs": [
    {
     "data": {
      "image/png": "[encoded data removed]",
      "text/plain": [
       "<Figure size 14400x360 with 1 Axes>"
      ]
     },
     "metadata": {},
     "output_type": "display_data"
    }
   ],
   "source": [
    "df_ts.invc_qty_cs.plot(figsize = (200,5), title = \"Shipped Qty in Cases\")\n",
    "plt.show()"
   ]
  },
  {
   "cell_type": "code",
   "execution_count": 34,
   "metadata": {},
   "outputs": [
    {
     "data": {
      "text/plain": [
       "True"
      ]
     },
     "execution_count": 34,
     "metadata": {},
     "output_type": "execute_result"
    }
   ],
   "source": [
    "df_ts.tms_load_id.isna().any()"
   ]
  },
  {
   "cell_type": "code",
   "execution_count": 35,
   "metadata": {},
   "outputs": [
    {
     "data": {
      "text/html": [
       "<div>\n",
       "<style scoped>\n",
       "    .dataframe tbody tr th:only-of-type {\n",
       "        vertical-align: middle;\n",
       "    }\n",
       "\n",
       "    .dataframe tbody tr th {\n",
       "        vertical-align: top;\n",
       "    }\n",
       "\n",
       "    .dataframe thead th {\n",
       "        text-align: right;\n",
       "    }\n",
       "</style>\n",
       "<table border=\"1\" class=\"dataframe\">\n",
       "  <thead>\n",
       "    <tr style=\"text-align: right;\">\n",
       "      <th></th>\n",
       "      <th>tms_load_id</th>\n",
       "      <th>invc_create_dt</th>\n",
       "      <th>sls_itm_subtotal_3</th>\n",
       "      <th>sls_itm_catg</th>\n",
       "      <th>invc_itm_gross_weight</th>\n",
       "      <th>invc_itm_volume</th>\n",
       "      <th>DisplayItemFlag</th>\n",
       "      <th>ct_match</th>\n",
       "      <th>line_ct_charges</th>\n",
       "      <th>line_glo_charges</th>\n",
       "      <th>fiscal_yr_mo</th>\n",
       "      <th>kc_trim</th>\n",
       "      <th>invc_qty_ea</th>\n",
       "      <th>invc_qty_cs</th>\n",
       "    </tr>\n",
       "  </thead>\n",
       "  <tbody>\n",
       "    <tr>\n",
       "      <th>2242890</th>\n",
       "      <td>NaN</td>\n",
       "      <td>2020-05-11</td>\n",
       "      <td>2024</td>\n",
       "      <td>TAN</td>\n",
       "      <td>115</td>\n",
       "      <td>16</td>\n",
       "      <td>0</td>\n",
       "      <td>n</td>\n",
       "      <td>0</td>\n",
       "      <td>0</td>\n",
       "      <td>2020-05-01</td>\n",
       "      <td>48176901</td>\n",
       "      <td>46</td>\n",
       "      <td>46</td>\n",
       "    </tr>\n",
       "    <tr>\n",
       "      <th>2242891</th>\n",
       "      <td>NaN</td>\n",
       "      <td>2020-05-11</td>\n",
       "      <td>2024</td>\n",
       "      <td>TAN</td>\n",
       "      <td>115</td>\n",
       "      <td>16</td>\n",
       "      <td>0</td>\n",
       "      <td>y</td>\n",
       "      <td>0</td>\n",
       "      <td>0</td>\n",
       "      <td>2020-05-01</td>\n",
       "      <td>48176901</td>\n",
       "      <td>46</td>\n",
       "      <td>46</td>\n",
       "    </tr>\n",
       "    <tr>\n",
       "      <th>2242892</th>\n",
       "      <td>NaN</td>\n",
       "      <td>2020-05-11</td>\n",
       "      <td>13559</td>\n",
       "      <td>TAN</td>\n",
       "      <td>3380</td>\n",
       "      <td>474</td>\n",
       "      <td>0</td>\n",
       "      <td>n</td>\n",
       "      <td>0</td>\n",
       "      <td>0</td>\n",
       "      <td>2020-05-01</td>\n",
       "      <td>48176901</td>\n",
       "      <td>321</td>\n",
       "      <td>321</td>\n",
       "    </tr>\n",
       "    <tr>\n",
       "      <th>2242893</th>\n",
       "      <td>NaN</td>\n",
       "      <td>2020-05-11</td>\n",
       "      <td>13559</td>\n",
       "      <td>TAN</td>\n",
       "      <td>3380</td>\n",
       "      <td>474</td>\n",
       "      <td>0</td>\n",
       "      <td>y</td>\n",
       "      <td>3</td>\n",
       "      <td>0</td>\n",
       "      <td>2020-05-01</td>\n",
       "      <td>48176901</td>\n",
       "      <td>321</td>\n",
       "      <td>321</td>\n",
       "    </tr>\n",
       "    <tr>\n",
       "      <th>2242894</th>\n",
       "      <td>NaN</td>\n",
       "      <td>2020-05-11</td>\n",
       "      <td>2574</td>\n",
       "      <td>TAN</td>\n",
       "      <td>610</td>\n",
       "      <td>78</td>\n",
       "      <td>0</td>\n",
       "      <td>n</td>\n",
       "      <td>0</td>\n",
       "      <td>0</td>\n",
       "      <td>2020-05-01</td>\n",
       "      <td>48176901</td>\n",
       "      <td>65</td>\n",
       "      <td>65</td>\n",
       "    </tr>\n",
       "    <tr>\n",
       "      <th>2242895</th>\n",
       "      <td>NaN</td>\n",
       "      <td>2020-05-11</td>\n",
       "      <td>2574</td>\n",
       "      <td>TAN</td>\n",
       "      <td>610</td>\n",
       "      <td>78</td>\n",
       "      <td>0</td>\n",
       "      <td>y</td>\n",
       "      <td>1</td>\n",
       "      <td>0</td>\n",
       "      <td>2020-05-01</td>\n",
       "      <td>48176901</td>\n",
       "      <td>65</td>\n",
       "      <td>65</td>\n",
       "    </tr>\n",
       "    <tr>\n",
       "      <th>6581950</th>\n",
       "      <td>NaN</td>\n",
       "      <td>2020-08-04</td>\n",
       "      <td>1386</td>\n",
       "      <td>TAN</td>\n",
       "      <td>240</td>\n",
       "      <td>34</td>\n",
       "      <td>0</td>\n",
       "      <td>n</td>\n",
       "      <td>0</td>\n",
       "      <td>0</td>\n",
       "      <td>2020-08-01</td>\n",
       "      <td>48176901</td>\n",
       "      <td>105</td>\n",
       "      <td>35</td>\n",
       "    </tr>\n",
       "    <tr>\n",
       "      <th>6581951</th>\n",
       "      <td>NaN</td>\n",
       "      <td>2020-08-04</td>\n",
       "      <td>1386</td>\n",
       "      <td>TAN</td>\n",
       "      <td>240</td>\n",
       "      <td>34</td>\n",
       "      <td>0</td>\n",
       "      <td>y</td>\n",
       "      <td>4</td>\n",
       "      <td>0</td>\n",
       "      <td>2020-08-01</td>\n",
       "      <td>48176901</td>\n",
       "      <td>105</td>\n",
       "      <td>35</td>\n",
       "    </tr>\n",
       "  </tbody>\n",
       "</table>\n",
       "</div>"
      ],
      "text/plain": [
       "        tms_load_id invc_create_dt  sls_itm_subtotal_3 sls_itm_catg  \\\n",
       "2242890         NaN     2020-05-11                2024          TAN   \n",
       "2242891         NaN     2020-05-11                2024          TAN   \n",
       "2242892         NaN     2020-05-11               13559          TAN   \n",
       "2242893         NaN     2020-05-11               13559          TAN   \n",
       "2242894         NaN     2020-05-11                2574          TAN   \n",
       "2242895         NaN     2020-05-11                2574          TAN   \n",
       "6581950         NaN     2020-08-04                1386          TAN   \n",
       "6581951         NaN     2020-08-04                1386          TAN   \n",
       "\n",
       "         invc_itm_gross_weight  invc_itm_volume  DisplayItemFlag ct_match  \\\n",
       "2242890                    115               16                0        n   \n",
       "2242891                    115               16                0        y   \n",
       "2242892                   3380              474                0        n   \n",
       "2242893                   3380              474                0        y   \n",
       "2242894                    610               78                0        n   \n",
       "2242895                    610               78                0        y   \n",
       "6581950                    240               34                0        n   \n",
       "6581951                    240               34                0        y   \n",
       "\n",
       "         line_ct_charges  line_glo_charges fiscal_yr_mo   kc_trim  \\\n",
       "2242890                0                 0   2020-05-01  48176901   \n",
       "2242891                0                 0   2020-05-01  48176901   \n",
       "2242892                0                 0   2020-05-01  48176901   \n",
       "2242893                3                 0   2020-05-01  48176901   \n",
       "2242894                0                 0   2020-05-01  48176901   \n",
       "2242895                1                 0   2020-05-01  48176901   \n",
       "6581950                0                 0   2020-08-01  48176901   \n",
       "6581951                4                 0   2020-08-01  48176901   \n",
       "\n",
       "         invc_qty_ea  invc_qty_cs  \n",
       "2242890           46           46  \n",
       "2242891           46           46  \n",
       "2242892          321          321  \n",
       "2242893          321          321  \n",
       "2242894           65           65  \n",
       "2242895           65           65  \n",
       "6581950          105           35  \n",
       "6581951          105           35  "
      ]
     },
     "execution_count": 35,
     "metadata": {},
     "output_type": "execute_result"
    }
   ],
   "source": [
    "df_ts[df_ts['tms_load_id'].isna()].iloc[:,12:27]"
   ]
  },
  {
   "cell_type": "code",
   "execution_count": 36,
   "metadata": {},
   "outputs": [
    {
     "data": {
      "text/plain": [
       "13.770645362916278"
      ]
     },
     "execution_count": 36,
     "metadata": {},
     "output_type": "execute_result"
    }
   ],
   "source": [
    "df_ts.invc_qty_cs.mean()"
   ]
  },
  {
   "cell_type": "code",
   "execution_count": 37,
   "metadata": {},
   "outputs": [
    {
     "data": {
      "image/png": "[encoded data removed]",
      "text/plain": [
       "<Figure size 1440x360 with 1 Axes>"
      ]
     },
     "metadata": {},
     "output_type": "display_data"
    }
   ],
   "source": [
    "df_ts.invc_qty_cs.plot(figsize=(20,5),title=\"Plot of Shipped Qty in Cases\")\n",
    "plt.show()"
   ]
  },
  {
   "cell_type": "code",
   "execution_count": 38,
   "metadata": {},
   "outputs": [
    {
     "data": {
      "text/plain": [
       "Index(['RecordID', 'vics_bol_num', 'shpmt_doc_num', 'purch_ord_num',\n",
       "       'sls_ord_num', 'dlvry_doc_num', 'sold_to_num', 'ship_to_num',\n",
       "       'matl_num', 'invc_num', 'sls_doc_typ', 'plant_cd', 'tms_load_id',\n",
       "       'invc_create_dt', 'sls_itm_subtotal_3', 'sls_itm_catg',\n",
       "       'invc_itm_gross_weight', 'invc_itm_volume', 'DisplayItemFlag',\n",
       "       'ct_match', 'line_ct_charges', 'line_glo_charges', 'fiscal_yr_mo',\n",
       "       'kc_trim', 'invc_qty_ea', 'invc_qty_cs'],\n",
       "      dtype='object')"
      ]
     },
     "execution_count": 38,
     "metadata": {},
     "output_type": "execute_result"
    }
   ],
   "source": [
    "df_ts.columns"
   ]
  },
  {
   "cell_type": "code",
   "execution_count": 39,
   "metadata": {},
   "outputs": [],
   "source": [
    "columns = ['RecordID', 'vics_bol_num', 'shpmt_doc_num', 'purch_ord_num',\n",
    "       'sls_ord_num', 'dlvry_doc_num', 'sold_to_num', 'ship_to_num', 'invc_num', 'sls_doc_typ', 'tms_load_id', 'sls_itm_subtotal_3', 'sls_itm_catg',\n",
    "       'invc_itm_gross_weight', 'invc_itm_volume', 'DisplayItemFlag',\n",
    "       'ct_match', 'line_ct_charges', 'line_glo_charges',\n",
    "       'kc_trim', 'invc_qty_ea']"
   ]
  },
  {
   "cell_type": "code",
   "execution_count": 40,
   "metadata": {},
   "outputs": [],
   "source": [
    "df_ts1 = df_ts.copy()\n",
    "df_ts1.drop(columns, axis =1, inplace=True)"
   ]
  },
  {
   "cell_type": "code",
   "execution_count": 41,
   "metadata": {},
   "outputs": [
    {
     "data": {
      "text/html": [
       "<div>\n",
       "<style scoped>\n",
       "    .dataframe tbody tr th:only-of-type {\n",
       "        vertical-align: middle;\n",
       "    }\n",
       "\n",
       "    .dataframe tbody tr th {\n",
       "        vertical-align: top;\n",
       "    }\n",
       "\n",
       "    .dataframe thead th {\n",
       "        text-align: right;\n",
       "    }\n",
       "</style>\n",
       "<table border=\"1\" class=\"dataframe\">\n",
       "  <thead>\n",
       "    <tr style=\"text-align: right;\">\n",
       "      <th></th>\n",
       "      <th>matl_num</th>\n",
       "      <th>plant_cd</th>\n",
       "      <th>invc_create_dt</th>\n",
       "      <th>fiscal_yr_mo</th>\n",
       "      <th>invc_qty_cs</th>\n",
       "    </tr>\n",
       "  </thead>\n",
       "  <tbody>\n",
       "    <tr>\n",
       "      <th>0</th>\n",
       "      <td>111672475</td>\n",
       "      <td>US16</td>\n",
       "      <td>2019-12-30</td>\n",
       "      <td>2020-01-01</td>\n",
       "      <td>174</td>\n",
       "    </tr>\n",
       "    <tr>\n",
       "      <th>1</th>\n",
       "      <td>111747900</td>\n",
       "      <td>US16</td>\n",
       "      <td>2019-12-30</td>\n",
       "      <td>2020-01-01</td>\n",
       "      <td>127</td>\n",
       "    </tr>\n",
       "    <tr>\n",
       "      <th>2</th>\n",
       "      <td>111756100</td>\n",
       "      <td>US16</td>\n",
       "      <td>2019-12-30</td>\n",
       "      <td>2020-01-01</td>\n",
       "      <td>82</td>\n",
       "    </tr>\n",
       "    <tr>\n",
       "      <th>3</th>\n",
       "      <td>111756800</td>\n",
       "      <td>US16</td>\n",
       "      <td>2019-12-30</td>\n",
       "      <td>2020-01-01</td>\n",
       "      <td>118</td>\n",
       "    </tr>\n",
       "    <tr>\n",
       "      <th>4</th>\n",
       "      <td>111774700</td>\n",
       "      <td>US16</td>\n",
       "      <td>2019-12-30</td>\n",
       "      <td>2020-01-01</td>\n",
       "      <td>339</td>\n",
       "    </tr>\n",
       "  </tbody>\n",
       "</table>\n",
       "</div>"
      ],
      "text/plain": [
       "    matl_num plant_cd invc_create_dt fiscal_yr_mo  invc_qty_cs\n",
       "0  111672475     US16     2019-12-30   2020-01-01          174\n",
       "1  111747900     US16     2019-12-30   2020-01-01          127\n",
       "2  111756100     US16     2019-12-30   2020-01-01           82\n",
       "3  111756800     US16     2019-12-30   2020-01-01          118\n",
       "4  111774700     US16     2019-12-30   2020-01-01          339"
      ]
     },
     "execution_count": 41,
     "metadata": {},
     "output_type": "execute_result"
    }
   ],
   "source": [
    "df_ts1.head()"
   ]
  },
  {
   "cell_type": "code",
   "execution_count": 42,
   "metadata": {},
   "outputs": [
    {
     "data": {
      "text/plain": [
       "matl_num          0\n",
       "plant_cd          0\n",
       "invc_create_dt    0\n",
       "fiscal_yr_mo      0\n",
       "invc_qty_cs       0\n",
       "dtype: int64"
      ]
     },
     "execution_count": 42,
     "metadata": {},
     "output_type": "execute_result"
    }
   ],
   "source": [
    "df_ts1.isnull().sum()"
   ]
  },
  {
   "cell_type": "code",
   "execution_count": 43,
   "metadata": {},
   "outputs": [],
   "source": [
    "df_ts2 = df_ts1.groupby(['fiscal_yr_mo','plant_cd','matl_num'])['invc_qty_cs'].sum().reset_index()"
   ]
  },
  {
   "cell_type": "code",
   "execution_count": 51,
   "metadata": {},
   "outputs": [
    {
     "data": {
      "text/html": [
       "<div>\n",
       "<style scoped>\n",
       "    .dataframe tbody tr th:only-of-type {\n",
       "        vertical-align: middle;\n",
       "    }\n",
       "\n",
       "    .dataframe tbody tr th {\n",
       "        vertical-align: top;\n",
       "    }\n",
       "\n",
       "    .dataframe thead th {\n",
       "        text-align: right;\n",
       "    }\n",
       "</style>\n",
       "<table border=\"1\" class=\"dataframe\">\n",
       "  <thead>\n",
       "    <tr style=\"text-align: right;\">\n",
       "      <th></th>\n",
       "      <th>fiscal_yr_mo</th>\n",
       "      <th>plant_cd</th>\n",
       "      <th>matl_num</th>\n",
       "      <th>invc_qty_cs</th>\n",
       "    </tr>\n",
       "  </thead>\n",
       "  <tbody>\n",
       "    <tr>\n",
       "      <th>0</th>\n",
       "      <td>2020-01-01</td>\n",
       "      <td>US11</td>\n",
       "      <td>32043000</td>\n",
       "      <td>0</td>\n",
       "    </tr>\n",
       "    <tr>\n",
       "      <th>1</th>\n",
       "      <td>2020-01-01</td>\n",
       "      <td>US11</td>\n",
       "      <td>32043001</td>\n",
       "      <td>0</td>\n",
       "    </tr>\n",
       "    <tr>\n",
       "      <th>2</th>\n",
       "      <td>2020-01-01</td>\n",
       "      <td>US11</td>\n",
       "      <td>32043200</td>\n",
       "      <td>0</td>\n",
       "    </tr>\n",
       "    <tr>\n",
       "      <th>3</th>\n",
       "      <td>2020-01-01</td>\n",
       "      <td>US11</td>\n",
       "      <td>32043201</td>\n",
       "      <td>0</td>\n",
       "    </tr>\n",
       "    <tr>\n",
       "      <th>4</th>\n",
       "      <td>2020-01-01</td>\n",
       "      <td>US11</td>\n",
       "      <td>32043600</td>\n",
       "      <td>0</td>\n",
       "    </tr>\n",
       "  </tbody>\n",
       "</table>\n",
       "</div>"
      ],
      "text/plain": [
       "  fiscal_yr_mo plant_cd  matl_num  invc_qty_cs\n",
       "0   2020-01-01     US11  32043000            0\n",
       "1   2020-01-01     US11  32043001            0\n",
       "2   2020-01-01     US11  32043200            0\n",
       "3   2020-01-01     US11  32043201            0\n",
       "4   2020-01-01     US11  32043600            0"
      ]
     },
     "execution_count": 51,
     "metadata": {},
     "output_type": "execute_result"
    }
   ],
   "source": [
    "df_ts2.head()"
   ]
  },
  {
   "cell_type": "code",
   "execution_count": 52,
   "metadata": {},
   "outputs": [],
   "source": [
    "plant_codes = df_ts2.plant_cd.unique()"
   ]
  },
  {
   "cell_type": "code",
   "execution_count": 53,
   "metadata": {},
   "outputs": [],
   "source": [
    "df_ts3 = df_ts2.set_index('fiscal_yr_mo')"
   ]
  },
  {
   "cell_type": "code",
   "execution_count": 54,
   "metadata": {},
   "outputs": [
    {
     "data": {
      "text/html": [
       "<div>\n",
       "<style scoped>\n",
       "    .dataframe tbody tr th:only-of-type {\n",
       "        vertical-align: middle;\n",
       "    }\n",
       "\n",
       "    .dataframe tbody tr th {\n",
       "        vertical-align: top;\n",
       "    }\n",
       "\n",
       "    .dataframe thead th {\n",
       "        text-align: right;\n",
       "    }\n",
       "</style>\n",
       "<table border=\"1\" class=\"dataframe\">\n",
       "  <thead>\n",
       "    <tr style=\"text-align: right;\">\n",
       "      <th></th>\n",
       "      <th>plant_cd</th>\n",
       "      <th>matl_num</th>\n",
       "      <th>invc_qty_cs</th>\n",
       "    </tr>\n",
       "    <tr>\n",
       "      <th>fiscal_yr_mo</th>\n",
       "      <th></th>\n",
       "      <th></th>\n",
       "      <th></th>\n",
       "    </tr>\n",
       "  </thead>\n",
       "  <tbody>\n",
       "    <tr>\n",
       "      <th>2020-01-01</th>\n",
       "      <td>US11</td>\n",
       "      <td>32043000</td>\n",
       "      <td>0</td>\n",
       "    </tr>\n",
       "    <tr>\n",
       "      <th>2020-01-01</th>\n",
       "      <td>US11</td>\n",
       "      <td>32043001</td>\n",
       "      <td>0</td>\n",
       "    </tr>\n",
       "    <tr>\n",
       "      <th>2020-01-01</th>\n",
       "      <td>US11</td>\n",
       "      <td>32043200</td>\n",
       "      <td>0</td>\n",
       "    </tr>\n",
       "    <tr>\n",
       "      <th>2020-01-01</th>\n",
       "      <td>US11</td>\n",
       "      <td>32043201</td>\n",
       "      <td>0</td>\n",
       "    </tr>\n",
       "    <tr>\n",
       "      <th>2020-01-01</th>\n",
       "      <td>US11</td>\n",
       "      <td>32043600</td>\n",
       "      <td>0</td>\n",
       "    </tr>\n",
       "  </tbody>\n",
       "</table>\n",
       "</div>"
      ],
      "text/plain": [
       "             plant_cd  matl_num  invc_qty_cs\n",
       "fiscal_yr_mo                                \n",
       "2020-01-01       US11  32043000            0\n",
       "2020-01-01       US11  32043001            0\n",
       "2020-01-01       US11  32043200            0\n",
       "2020-01-01       US11  32043201            0\n",
       "2020-01-01       US11  32043600            0"
      ]
     },
     "execution_count": 54,
     "metadata": {},
     "output_type": "execute_result"
    }
   ],
   "source": [
    "df_ts3.head()"
   ]
  },
  {
   "cell_type": "code",
   "execution_count": 55,
   "metadata": {},
   "outputs": [
    {
     "data": {
      "text/plain": [
       "Index(['plant_cd', 'matl_num', 'invc_qty_cs'], dtype='object')"
      ]
     },
     "execution_count": 55,
     "metadata": {},
     "output_type": "execute_result"
    }
   ],
   "source": [
    "df_ts3.columns"
   ]
  },
  {
   "cell_type": "code",
   "execution_count": null,
   "metadata": {},
   "outputs": [],
   "source": [
    "df_ts5 = df_ts3.copy()\n",
    "df_ts_excl_US11 = df_ts5.drop(df_ts5[df_ts5.plant_cd.isin([\"US11\"])].index)"
   ]
  },
  {
   "cell_type": "code",
   "execution_count": null,
   "metadata": {},
   "outputs": [],
   "source": [
    "df_ts_excl_US11.head()"
   ]
  },
  {
   "cell_type": "code",
   "execution_count": null,
   "metadata": {},
   "outputs": [],
   "source": [
    "df_ts4 = df_ts2.copy()\n",
    "# df_ts4 = df_ts4.drop(['plant_cd','matl_num'], axis =1, inplace=True)\n",
    "df_ts4.drop(['plant_cd','matl_num'], axis =1, inplace=True)\n",
    "df_ts4"
   ]
  },
  {
   "cell_type": "code",
   "execution_count": null,
   "metadata": {
    "scrolled": true
   },
   "outputs": [],
   "source": [
    "# Group the data by Order Date for sum of Sales\n",
    "plant_cd_data = df_ts2.groupby(['fiscal_yr_mo','plant_cd'])['invc_qty_cs'].sum().reset_index()\n",
    "plant_cd_data\n",
    "plant_cd_data = plant_cd_data.set_index('fiscal_yr_mo')"
   ]
  },
  {
   "cell_type": "code",
   "execution_count": null,
   "metadata": {},
   "outputs": [],
   "source": [
    "plant_cd_data.head()"
   ]
  },
  {
   "cell_type": "code",
   "execution_count": null,
   "metadata": {},
   "outputs": [],
   "source": [
    "plant_cd_data.describe()"
   ]
  },
  {
   "cell_type": "code",
   "execution_count": 70,
   "metadata": {},
   "outputs": [],
   "source": [
    "df_tot_qty_mon = df_ts2.groupby(['fiscal_yr_mo'])['invc_qty_cs'].sum().reset_index()\n",
    "df_tot_qty_mon= df_tot_qty_mon.set_index('fiscal_yr_mo')"
   ]
  },
  {
   "cell_type": "code",
   "execution_count": 57,
   "metadata": {
    "scrolled": true
   },
   "outputs": [
    {
     "data": {
      "image/png": "[encoded data removed]",
      "text/plain": [
       "<Figure size 1080x864 with 5 Axes>"
      ]
     },
     "metadata": {},
     "output_type": "display_data"
    }
   ],
   "source": [
    "# plt.style.use('classic')\n",
    "plt.figure(figsize=(15, 12))\n",
    "plt.subplots_adjust(hspace=0.5)\n",
    "plt.suptitle(\"Monthly Qty by Plant Cd\", fontsize=18, y=0.95)\n",
    "\n",
    "# loop through the length of tickers and keep track of index\n",
    "for n, plant_code in enumerate(plant_codes):\n",
    "    # add a new subplot iteratively\n",
    "    ax = plt.subplot(3, 2, n + 1)\n",
    "    # filter df and plot ticker on the new subplot axis\n",
    "    df_plnt_cd_mon_qty = plant_cd_data[plant_cd_data[\"plant_cd\"] == plant_code]\n",
    "#     print(df_plnt_cd)\n",
    "    df_plnt_cd_mon_qty.invc_qty_cs.plot(ax=ax)\n",
    "#     (ax=ax)\n",
    "\n",
    "    # chart formatting\n",
    "    ax.set_title(plant_code.upper())\n",
    "#     ax.get_legend().remove()\n",
    "    ax.set_xlabel(\"\")\n",
    "#     plt.show()"
   ]
  },
  {
   "cell_type": "code",
   "execution_count": 54,
   "metadata": {},
   "outputs": [
    {
     "data": {
      "image/png": "[encoded data removed]",
      "text/plain": [
       "<Figure size 1080x864 with 5 Axes>"
      ]
     },
     "metadata": {},
     "output_type": "display_data"
    }
   ],
   "source": [
    "# plt.style.use('classic')\n",
    "plt.figure(figsize=(15, 12))\n",
    "plt.subplots_adjust(hspace=0.5)\n",
    "plt.suptitle(\"Monthly Qty by Plant Cd\", fontsize=18, y=0.95)\n",
    "\n",
    "# loop through the length of tickers and keep track of index\n",
    "for n, plant_code in enumerate(plant_codes):\n",
    "    # add a new subplot iteratively\n",
    "    ax = plt.subplot(3, 2, n + 1)\n",
    "    # filter df and plot ticker on the new subplot axis\n",
    "    df_plnt_cd = df_ts3[df_ts3[\"plant_cd\"] == plant_code]\n",
    "#     print(df_plnt_cd)\n",
    "    df_plnt_cd.invc_qty_cs.plot(ax=ax)\n",
    "#     (ax=ax)\n",
    "\n",
    "    # chart formatting\n",
    "    ax.set_title(plant_code.upper())\n",
    "#     ax.get_legend().remove()\n",
    "    ax.set_xlabel(\"\")\n",
    "#     plt.show()"
   ]
  },
  {
   "cell_type": "code",
   "execution_count": 97,
   "metadata": {
    "scrolled": true
   },
   "outputs": [
    {
     "name": "stdout",
     "output_type": "stream",
     "text": [
      "<class 'pandas.core.frame.DataFrame'>\n",
      "RangeIndex: 303430 entries, 0 to 303429\n",
      "Data columns (total 2 columns):\n",
      " #   Column        Non-Null Count   Dtype         \n",
      "---  ------        --------------   -----         \n",
      " 0   fiscal_yr_mo  303430 non-null  datetime64[ns]\n",
      " 1   invc_qty_cs   303430 non-null  int64         \n",
      "dtypes: datetime64[ns](1), int64(1)\n",
      "memory usage: 4.6 MB\n"
     ]
    }
   ],
   "source": [
    "df_ts4.info()"
   ]
  },
  {
   "cell_type": "code",
   "execution_count": 98,
   "metadata": {},
   "outputs": [
    {
     "data": {
      "text/plain": [
       "RangeIndex(start=0, stop=303430, step=1)"
      ]
     },
     "execution_count": 98,
     "metadata": {},
     "output_type": "execute_result"
    }
   ],
   "source": [
    "df_ts4.index"
   ]
  },
  {
   "cell_type": "code",
   "execution_count": 99,
   "metadata": {},
   "outputs": [],
   "source": [
    "df_ts4 = df_ts4.set_index('fiscal_yr_mo')"
   ]
  },
  {
   "cell_type": "code",
   "execution_count": 102,
   "metadata": {},
   "outputs": [
    {
     "data": {
      "text/html": [
       "<div>\n",
       "<style scoped>\n",
       "    .dataframe tbody tr th:only-of-type {\n",
       "        vertical-align: middle;\n",
       "    }\n",
       "\n",
       "    .dataframe tbody tr th {\n",
       "        vertical-align: top;\n",
       "    }\n",
       "\n",
       "    .dataframe thead th {\n",
       "        text-align: right;\n",
       "    }\n",
       "</style>\n",
       "<table border=\"1\" class=\"dataframe\">\n",
       "  <thead>\n",
       "    <tr style=\"text-align: right;\">\n",
       "      <th></th>\n",
       "      <th>invc_qty_cs</th>\n",
       "    </tr>\n",
       "    <tr>\n",
       "      <th>fiscal_yr_mo</th>\n",
       "      <th></th>\n",
       "    </tr>\n",
       "  </thead>\n",
       "  <tbody>\n",
       "    <tr>\n",
       "      <th>2020-01-01</th>\n",
       "      <td>0</td>\n",
       "    </tr>\n",
       "    <tr>\n",
       "      <th>2020-01-01</th>\n",
       "      <td>0</td>\n",
       "    </tr>\n",
       "    <tr>\n",
       "      <th>2020-01-01</th>\n",
       "      <td>0</td>\n",
       "    </tr>\n",
       "    <tr>\n",
       "      <th>2020-01-01</th>\n",
       "      <td>0</td>\n",
       "    </tr>\n",
       "    <tr>\n",
       "      <th>2020-01-01</th>\n",
       "      <td>0</td>\n",
       "    </tr>\n",
       "    <tr>\n",
       "      <th>...</th>\n",
       "      <td>...</td>\n",
       "    </tr>\n",
       "    <tr>\n",
       "      <th>2021-07-01</th>\n",
       "      <td>0</td>\n",
       "    </tr>\n",
       "    <tr>\n",
       "      <th>2021-07-01</th>\n",
       "      <td>0</td>\n",
       "    </tr>\n",
       "    <tr>\n",
       "      <th>2021-07-01</th>\n",
       "      <td>0</td>\n",
       "    </tr>\n",
       "    <tr>\n",
       "      <th>2021-07-01</th>\n",
       "      <td>0</td>\n",
       "    </tr>\n",
       "    <tr>\n",
       "      <th>2021-07-01</th>\n",
       "      <td>0</td>\n",
       "    </tr>\n",
       "  </tbody>\n",
       "</table>\n",
       "<p>303430 rows × 1 columns</p>\n",
       "</div>"
      ],
      "text/plain": [
       "              invc_qty_cs\n",
       "fiscal_yr_mo             \n",
       "2020-01-01              0\n",
       "2020-01-01              0\n",
       "2020-01-01              0\n",
       "2020-01-01              0\n",
       "2020-01-01              0\n",
       "...                   ...\n",
       "2021-07-01              0\n",
       "2021-07-01              0\n",
       "2021-07-01              0\n",
       "2021-07-01              0\n",
       "2021-07-01              0\n",
       "\n",
       "[303430 rows x 1 columns]"
      ]
     },
     "execution_count": 102,
     "metadata": {},
     "output_type": "execute_result"
    }
   ],
   "source": [
    "df_ts4.sort_index(inplace=True)\n",
    "df_ts4"
   ]
  },
  {
   "cell_type": "code",
   "execution_count": 104,
   "metadata": {},
   "outputs": [
    {
     "data": {
      "image/png": "[encoded data removed]",
      "text/plain": [
       "<Figure size 1080x504 with 1 Axes>"
      ]
     },
     "metadata": {},
     "output_type": "display_data"
    }
   ],
   "source": [
    "df_ts4.plot(figsize=(15,7), title='Inventory Qty by Fiscal Month')\n",
    "plt.show()"
   ]
  },
  {
   "cell_type": "code",
   "execution_count": 109,
   "metadata": {},
   "outputs": [],
   "source": [
    "df_ts_freq_month = df_ts4['invc_qty_cs'].resample('MS').mean()"
   ]
  },
  {
   "cell_type": "code",
   "execution_count": 115,
   "metadata": {},
   "outputs": [],
   "source": [
    "# df_ts_sum_mon = df_ts4['invc_qty_cs'].resample('M').aggregate()"
   ]
  },
  {
   "cell_type": "code",
   "execution_count": 111,
   "metadata": {},
   "outputs": [
    {
     "data": {
      "text/plain": [
       "fiscal_yr_mo\n",
       "2020-01-01   274\n",
       "2020-02-01   448\n",
       "2020-03-01   591\n",
       "2020-04-01   582\n",
       "2020-05-01   277\n",
       "2020-06-01   498\n",
       "2020-07-01   412\n",
       "2020-08-01   360\n",
       "2020-09-01   387\n",
       "2020-10-01   287\n",
       "2020-11-01   244\n",
       "2020-12-01   437\n",
       "2021-01-01   294\n",
       "2021-02-01   415\n",
       "2021-03-01   631\n",
       "2021-04-01   436\n",
       "2021-05-01   317\n",
       "2021-06-01   539\n",
       "2021-07-01   311\n",
       "Freq: MS, Name: invc_qty_cs, dtype: float64"
      ]
     },
     "execution_count": 111,
     "metadata": {},
     "output_type": "execute_result"
    }
   ],
   "source": [
    "df_ts_freq_month"
   ]
  },
  {
   "cell_type": "code",
   "execution_count": 112,
   "metadata": {},
   "outputs": [
    {
     "data": {
      "text/plain": [
       "fiscal_yr_mo\n",
       "2020-01-01    15970\n",
       "2020-02-01    15970\n",
       "2020-03-01    15970\n",
       "2020-04-01    15970\n",
       "2020-05-01    15970\n",
       "2020-06-01    15970\n",
       "2020-07-01    15970\n",
       "2020-08-01    15970\n",
       "2020-09-01    15970\n",
       "2020-10-01    15970\n",
       "2020-11-01    15970\n",
       "2020-12-01    15970\n",
       "2021-01-01    15970\n",
       "2021-02-01    15970\n",
       "2021-03-01    15970\n",
       "2021-04-01    15970\n",
       "2021-05-01    15970\n",
       "2021-06-01    15970\n",
       "2021-07-01    15970\n",
       "Freq: MS, Name: invc_qty_cs, dtype: int64"
      ]
     },
     "execution_count": 112,
     "metadata": {},
     "output_type": "execute_result"
    }
   ],
   "source": [
    "df_ts_sum_mon"
   ]
  },
  {
   "cell_type": "code",
   "execution_count": 57,
   "metadata": {},
   "outputs": [
    {
     "data": {
      "image/png": "[encoded data removed]",
      "text/plain": [
       "<Figure size 1296x576 with 4 Axes>"
      ]
     },
     "metadata": {},
     "output_type": "display_data"
    }
   ],
   "source": [
    "from pylab import rcParams\n",
    "rcParams['figure.figsize'] = 18, 8\n",
    "decomposition = sm.tsa.seasonal_decompose(df_ts_freq_month, model='additive', period=1)\n",
    "fig = decomposition.plot()\n",
    "plt.show()"
   ]
  },
  {
   "cell_type": "code",
   "execution_count": 58,
   "metadata": {},
   "outputs": [
    {
     "data": {
      "text/plain": [
       "fiscal_yr_mo\n",
       "2020-01-01    False\n",
       "2020-01-01     True\n",
       "2020-01-01     True\n",
       "2020-01-01     True\n",
       "2020-01-01     True\n",
       "              ...  \n",
       "2021-07-01     True\n",
       "2021-07-01     True\n",
       "2021-07-01     True\n",
       "2021-07-01     True\n",
       "2021-07-01     True\n",
       "Name: invc_qty_cs, Length: 303430, dtype: bool"
      ]
     },
     "execution_count": 58,
     "metadata": {},
     "output_type": "execute_result"
    }
   ],
   "source": [
    "df_ts4.invc_qty_cs.duplicated()"
   ]
  },
  {
   "cell_type": "code",
   "execution_count": 59,
   "metadata": {},
   "outputs": [
    {
     "data": {
      "text/plain": [
       "False"
      ]
     },
     "execution_count": 59,
     "metadata": {},
     "output_type": "execute_result"
    }
   ],
   "source": [
    "df.invc_qty_cs.is_unique"
   ]
  },
  {
   "cell_type": "code",
   "execution_count": 60,
   "metadata": {},
   "outputs": [
    {
     "data": {
      "text/html": [
       "<div>\n",
       "<style scoped>\n",
       "    .dataframe tbody tr th:only-of-type {\n",
       "        vertical-align: middle;\n",
       "    }\n",
       "\n",
       "    .dataframe tbody tr th {\n",
       "        vertical-align: top;\n",
       "    }\n",
       "\n",
       "    .dataframe thead th {\n",
       "        text-align: right;\n",
       "    }\n",
       "</style>\n",
       "<table border=\"1\" class=\"dataframe\">\n",
       "  <thead>\n",
       "    <tr style=\"text-align: right;\">\n",
       "      <th></th>\n",
       "      <th>invc_qty_cs</th>\n",
       "    </tr>\n",
       "    <tr>\n",
       "      <th>fiscal_yr_mo</th>\n",
       "      <th></th>\n",
       "    </tr>\n",
       "  </thead>\n",
       "  <tbody>\n",
       "    <tr>\n",
       "      <th>2020-01-01</th>\n",
       "      <td>0</td>\n",
       "    </tr>\n",
       "    <tr>\n",
       "      <th>2020-01-01</th>\n",
       "      <td>0</td>\n",
       "    </tr>\n",
       "    <tr>\n",
       "      <th>2020-01-01</th>\n",
       "      <td>0</td>\n",
       "    </tr>\n",
       "    <tr>\n",
       "      <th>2020-01-01</th>\n",
       "      <td>0</td>\n",
       "    </tr>\n",
       "    <tr>\n",
       "      <th>2020-01-01</th>\n",
       "      <td>0</td>\n",
       "    </tr>\n",
       "  </tbody>\n",
       "</table>\n",
       "</div>"
      ],
      "text/plain": [
       "              invc_qty_cs\n",
       "fiscal_yr_mo             \n",
       "2020-01-01              0\n",
       "2020-01-01              0\n",
       "2020-01-01              0\n",
       "2020-01-01              0\n",
       "2020-01-01              0"
      ]
     },
     "execution_count": 60,
     "metadata": {},
     "output_type": "execute_result"
    }
   ],
   "source": [
    "df_ts4.head()"
   ]
  },
  {
   "cell_type": "code",
   "execution_count": 61,
   "metadata": {},
   "outputs": [
    {
     "data": {
      "text/html": [
       "<div>\n",
       "<style scoped>\n",
       "    .dataframe tbody tr th:only-of-type {\n",
       "        vertical-align: middle;\n",
       "    }\n",
       "\n",
       "    .dataframe tbody tr th {\n",
       "        vertical-align: top;\n",
       "    }\n",
       "\n",
       "    .dataframe thead th {\n",
       "        text-align: right;\n",
       "    }\n",
       "</style>\n",
       "<table border=\"1\" class=\"dataframe\">\n",
       "  <thead>\n",
       "    <tr style=\"text-align: right;\">\n",
       "      <th></th>\n",
       "      <th>plant_cd</th>\n",
       "      <th>matl_num</th>\n",
       "      <th>invc_qty_cs</th>\n",
       "    </tr>\n",
       "    <tr>\n",
       "      <th>fiscal_yr_mo</th>\n",
       "      <th></th>\n",
       "      <th></th>\n",
       "      <th></th>\n",
       "    </tr>\n",
       "  </thead>\n",
       "  <tbody>\n",
       "    <tr>\n",
       "      <th>2020-01-01</th>\n",
       "      <td>US16</td>\n",
       "      <td>32043000</td>\n",
       "      <td>336</td>\n",
       "    </tr>\n",
       "    <tr>\n",
       "      <th>2020-02-01</th>\n",
       "      <td>US16</td>\n",
       "      <td>32043000</td>\n",
       "      <td>394</td>\n",
       "    </tr>\n",
       "    <tr>\n",
       "      <th>2020-03-01</th>\n",
       "      <td>US16</td>\n",
       "      <td>32043000</td>\n",
       "      <td>1119</td>\n",
       "    </tr>\n",
       "    <tr>\n",
       "      <th>2020-04-01</th>\n",
       "      <td>US16</td>\n",
       "      <td>32043000</td>\n",
       "      <td>156</td>\n",
       "    </tr>\n",
       "    <tr>\n",
       "      <th>2020-05-01</th>\n",
       "      <td>US16</td>\n",
       "      <td>32043000</td>\n",
       "      <td>69</td>\n",
       "    </tr>\n",
       "  </tbody>\n",
       "</table>\n",
       "</div>"
      ],
      "text/plain": [
       "             plant_cd  matl_num  invc_qty_cs\n",
       "fiscal_yr_mo                                \n",
       "2020-01-01       US16  32043000          336\n",
       "2020-02-01       US16  32043000          394\n",
       "2020-03-01       US16  32043000         1119\n",
       "2020-04-01       US16  32043000          156\n",
       "2020-05-01       US16  32043000           69"
      ]
     },
     "execution_count": 61,
     "metadata": {},
     "output_type": "execute_result"
    }
   ],
   "source": [
    "df_ts3_US16 = df_ts3[(df_ts3['plant_cd'] == 'US16') & (df_ts3['matl_num']== 32043000)]\n",
    "df_ts3_US16.head()"
   ]
  },
  {
   "cell_type": "code",
   "execution_count": 62,
   "metadata": {},
   "outputs": [
    {
     "data": {
      "image/png": "[encoded data removed]",
      "text/plain": [
       "<Figure size 1080x432 with 1 Axes>"
      ]
     },
     "metadata": {},
     "output_type": "display_data"
    }
   ],
   "source": [
    "df_ts3_US16.invc_qty_cs.plot(figsize=(15,6),title=\"Monthly Inventory Qty of US16\")\n",
    "plt.show()"
   ]
  },
  {
   "cell_type": "code",
   "execution_count": 71,
   "metadata": {},
   "outputs": [],
   "source": [
    "train_len = 16\n",
    "train = df_tot_qty_mon[0 : train_len]\n",
    "test = df_tot_qty_mon[train_len : ]"
   ]
  },
  {
   "cell_type": "code",
   "execution_count": 73,
   "metadata": {},
   "outputs": [
    {
     "data": {
      "text/html": [
       "<div>\n",
       "<style scoped>\n",
       "    .dataframe tbody tr th:only-of-type {\n",
       "        vertical-align: middle;\n",
       "    }\n",
       "\n",
       "    .dataframe tbody tr th {\n",
       "        vertical-align: top;\n",
       "    }\n",
       "\n",
       "    .dataframe thead th {\n",
       "        text-align: right;\n",
       "    }\n",
       "</style>\n",
       "<table border=\"1\" class=\"dataframe\">\n",
       "  <thead>\n",
       "    <tr style=\"text-align: right;\">\n",
       "      <th></th>\n",
       "      <th>invc_qty_cs</th>\n",
       "    </tr>\n",
       "    <tr>\n",
       "      <th>fiscal_yr_mo</th>\n",
       "      <th></th>\n",
       "    </tr>\n",
       "  </thead>\n",
       "  <tbody>\n",
       "    <tr>\n",
       "      <th>2020-01-01</th>\n",
       "      <td>4377978</td>\n",
       "    </tr>\n",
       "    <tr>\n",
       "      <th>2020-02-01</th>\n",
       "      <td>7151121</td>\n",
       "    </tr>\n",
       "    <tr>\n",
       "      <th>2020-03-01</th>\n",
       "      <td>9435011</td>\n",
       "    </tr>\n",
       "    <tr>\n",
       "      <th>2020-04-01</th>\n",
       "      <td>9292725</td>\n",
       "    </tr>\n",
       "    <tr>\n",
       "      <th>2020-05-01</th>\n",
       "      <td>4426346</td>\n",
       "    </tr>\n",
       "    <tr>\n",
       "      <th>2020-06-01</th>\n",
       "      <td>7958248</td>\n",
       "    </tr>\n",
       "    <tr>\n",
       "      <th>2020-07-01</th>\n",
       "      <td>6572461</td>\n",
       "    </tr>\n",
       "    <tr>\n",
       "      <th>2020-08-01</th>\n",
       "      <td>5756874</td>\n",
       "    </tr>\n",
       "    <tr>\n",
       "      <th>2020-09-01</th>\n",
       "      <td>6172744</td>\n",
       "    </tr>\n",
       "    <tr>\n",
       "      <th>2020-10-01</th>\n",
       "      <td>4582686</td>\n",
       "    </tr>\n",
       "    <tr>\n",
       "      <th>2020-11-01</th>\n",
       "      <td>3890316</td>\n",
       "    </tr>\n",
       "    <tr>\n",
       "      <th>2020-12-01</th>\n",
       "      <td>6983498</td>\n",
       "    </tr>\n",
       "    <tr>\n",
       "      <th>2021-01-01</th>\n",
       "      <td>4691291</td>\n",
       "    </tr>\n",
       "    <tr>\n",
       "      <th>2021-02-01</th>\n",
       "      <td>6622029</td>\n",
       "    </tr>\n",
       "    <tr>\n",
       "      <th>2021-03-01</th>\n",
       "      <td>10079154</td>\n",
       "    </tr>\n",
       "    <tr>\n",
       "      <th>2021-04-01</th>\n",
       "      <td>6958469</td>\n",
       "    </tr>\n",
       "  </tbody>\n",
       "</table>\n",
       "</div>"
      ],
      "text/plain": [
       "              invc_qty_cs\n",
       "fiscal_yr_mo             \n",
       "2020-01-01        4377978\n",
       "2020-02-01        7151121\n",
       "2020-03-01        9435011\n",
       "2020-04-01        9292725\n",
       "2020-05-01        4426346\n",
       "2020-06-01        7958248\n",
       "2020-07-01        6572461\n",
       "2020-08-01        5756874\n",
       "2020-09-01        6172744\n",
       "2020-10-01        4582686\n",
       "2020-11-01        3890316\n",
       "2020-12-01        6983498\n",
       "2021-01-01        4691291\n",
       "2021-02-01        6622029\n",
       "2021-03-01       10079154\n",
       "2021-04-01        6958469"
      ]
     },
     "execution_count": 73,
     "metadata": {},
     "output_type": "execute_result"
    }
   ],
   "source": [
    "train"
   ]
  },
  {
   "cell_type": "code",
   "execution_count": 74,
   "metadata": {},
   "outputs": [
    {
     "data": {
      "text/html": [
       "<div>\n",
       "<style scoped>\n",
       "    .dataframe tbody tr th:only-of-type {\n",
       "        vertical-align: middle;\n",
       "    }\n",
       "\n",
       "    .dataframe tbody tr th {\n",
       "        vertical-align: top;\n",
       "    }\n",
       "\n",
       "    .dataframe thead th {\n",
       "        text-align: right;\n",
       "    }\n",
       "</style>\n",
       "<table border=\"1\" class=\"dataframe\">\n",
       "  <thead>\n",
       "    <tr style=\"text-align: right;\">\n",
       "      <th></th>\n",
       "      <th>invc_qty_cs</th>\n",
       "    </tr>\n",
       "    <tr>\n",
       "      <th>fiscal_yr_mo</th>\n",
       "      <th></th>\n",
       "    </tr>\n",
       "  </thead>\n",
       "  <tbody>\n",
       "    <tr>\n",
       "      <th>2021-05-01</th>\n",
       "      <td>5059493</td>\n",
       "    </tr>\n",
       "    <tr>\n",
       "      <th>2021-06-01</th>\n",
       "      <td>8603541</td>\n",
       "    </tr>\n",
       "    <tr>\n",
       "      <th>2021-07-01</th>\n",
       "      <td>4961294</td>\n",
       "    </tr>\n",
       "  </tbody>\n",
       "</table>\n",
       "</div>"
      ],
      "text/plain": [
       "              invc_qty_cs\n",
       "fiscal_yr_mo             \n",
       "2021-05-01        5059493\n",
       "2021-06-01        8603541\n",
       "2021-07-01        4961294"
      ]
     },
     "execution_count": 74,
     "metadata": {},
     "output_type": "execute_result"
    }
   ],
   "source": [
    "test"
   ]
  },
  {
   "cell_type": "markdown",
   "metadata": {},
   "source": [
    "### Naive Method"
   ]
  },
  {
   "cell_type": "code",
   "execution_count": 75,
   "metadata": {},
   "outputs": [],
   "source": [
    "y_hat_naive = test.copy()\n",
    "y_hat_naive['naive_forecast'] = train['invc_qty_cs'][train_len-1]"
   ]
  },
  {
   "cell_type": "code",
   "execution_count": 77,
   "metadata": {},
   "outputs": [
    {
     "data": {
      "image/png": "[encoded data removed]",
      "text/plain": [
       "<Figure size 864x288 with 1 Axes>"
      ]
     },
     "metadata": {},
     "output_type": "display_data"
    }
   ],
   "source": [
    "# Plot train, test and forecast\n",
    "plt.figure(figsize=(12,4))\n",
    "plt.plot(train['invc_qty_cs'], label='Train')\n",
    "plt.plot(test['invc_qty_cs'], label='Test')\n",
    "plt.plot(y_hat_naive['naive_forecast'], label='Naive forecast')\n",
    "plt.legend(loc='best')\n",
    "plt.title('Naive Method')\n",
    "plt.show()"
   ]
  },
  {
   "cell_type": "code",
   "execution_count": 78,
   "metadata": {},
   "outputs": [
    {
     "data": {
      "text/html": [
       "<div>\n",
       "<style scoped>\n",
       "    .dataframe tbody tr th:only-of-type {\n",
       "        vertical-align: middle;\n",
       "    }\n",
       "\n",
       "    .dataframe tbody tr th {\n",
       "        vertical-align: top;\n",
       "    }\n",
       "\n",
       "    .dataframe thead th {\n",
       "        text-align: right;\n",
       "    }\n",
       "</style>\n",
       "<table border=\"1\" class=\"dataframe\">\n",
       "  <thead>\n",
       "    <tr style=\"text-align: right;\">\n",
       "      <th></th>\n",
       "      <th>Method</th>\n",
       "      <th>RMSE</th>\n",
       "      <th>MAPE</th>\n",
       "    </tr>\n",
       "  </thead>\n",
       "  <tbody>\n",
       "    <tr>\n",
       "      <th>0</th>\n",
       "      <td>Naive method</td>\n",
       "      <td>1853023</td>\n",
       "      <td>32</td>\n",
       "    </tr>\n",
       "  </tbody>\n",
       "</table>\n",
       "</div>"
      ],
      "text/plain": [
       "         Method    RMSE  MAPE\n",
       "0  Naive method 1853023    32"
      ]
     },
     "execution_count": 78,
     "metadata": {},
     "output_type": "execute_result"
    }
   ],
   "source": [
    "# Calculate RMSE and MAPE\n",
    "\n",
    "from sklearn.metrics import mean_squared_error\n",
    "rmse = np.sqrt(mean_squared_error(test['invc_qty_cs'], y_hat_naive['naive_forecast'])).round(2)\n",
    "mape = np.round(np.mean(np.abs(test['invc_qty_cs']-y_hat_naive['naive_forecast'])/test['invc_qty_cs'])*100,2)\n",
    "\n",
    "results = pd.DataFrame({'Method':['Naive method'], 'MAPE': [mape], 'RMSE': [rmse]})\n",
    "results = results[['Method', 'RMSE', 'MAPE']]\n",
    "results"
   ]
  },
  {
   "cell_type": "markdown",
   "metadata": {},
   "source": [
    "### Simple Average Method"
   ]
  },
  {
   "cell_type": "code",
   "execution_count": 79,
   "metadata": {},
   "outputs": [],
   "source": [
    "y_hat_avg = test.copy()\n",
    "y_hat_avg['avg_forecast'] = train['invc_qty_cs'].mean()"
   ]
  },
  {
   "cell_type": "code",
   "execution_count": 80,
   "metadata": {},
   "outputs": [
    {
     "data": {
      "image/png": "[encoded data removed]",
      "text/plain": [
       "<Figure size 864x288 with 1 Axes>"
      ]
     },
     "metadata": {},
     "output_type": "display_data"
    }
   ],
   "source": [
    "# Plot train, test and forecast\n",
    "plt.figure(figsize=(12,4))\n",
    "plt.plot(train['invc_qty_cs'], label='Train')\n",
    "plt.plot(test['invc_qty_cs'], label='Test')\n",
    "plt.plot(y_hat_avg['avg_forecast'], label='Simple average forecast')\n",
    "plt.legend(loc='best')\n",
    "plt.title('Simple Average Method')\n",
    "plt.show()"
   ]
  },
  {
   "cell_type": "code",
   "execution_count": 81,
   "metadata": {},
   "outputs": [
    {
     "data": {
      "text/html": [
       "<div>\n",
       "<style scoped>\n",
       "    .dataframe tbody tr th:only-of-type {\n",
       "        vertical-align: middle;\n",
       "    }\n",
       "\n",
       "    .dataframe tbody tr th {\n",
       "        vertical-align: top;\n",
       "    }\n",
       "\n",
       "    .dataframe thead th {\n",
       "        text-align: right;\n",
       "    }\n",
       "</style>\n",
       "<table border=\"1\" class=\"dataframe\">\n",
       "  <thead>\n",
       "    <tr style=\"text-align: right;\">\n",
       "      <th></th>\n",
       "      <th>Method</th>\n",
       "      <th>RMSE</th>\n",
       "      <th>MAPE</th>\n",
       "    </tr>\n",
       "  </thead>\n",
       "  <tbody>\n",
       "    <tr>\n",
       "      <th>0</th>\n",
       "      <td>Naive method</td>\n",
       "      <td>1853023</td>\n",
       "      <td>32</td>\n",
       "    </tr>\n",
       "    <tr>\n",
       "      <th>0</th>\n",
       "      <td>Simple average method</td>\n",
       "      <td>1730342</td>\n",
       "      <td>29</td>\n",
       "    </tr>\n",
       "  </tbody>\n",
       "</table>\n",
       "</div>"
      ],
      "text/plain": [
       "                  Method    RMSE  MAPE\n",
       "0           Naive method 1853023    32\n",
       "0  Simple average method 1730342    29"
      ]
     },
     "execution_count": 81,
     "metadata": {},
     "output_type": "execute_result"
    }
   ],
   "source": [
    "# Calculate RMSE and MAPE\n",
    "\n",
    "rmse = np.sqrt(mean_squared_error(test['invc_qty_cs'], y_hat_avg['avg_forecast'])).round(2)\n",
    "mape = np.round(np.mean(np.abs(test['invc_qty_cs']-y_hat_avg['avg_forecast'])/test['invc_qty_cs'])*100,2)\n",
    "\n",
    "tempResults = pd.DataFrame({'Method':['Simple average method'], 'RMSE': [rmse],'MAPE': [mape] })\n",
    "results = pd.concat([results, tempResults])\n",
    "results = results[['Method', 'RMSE', 'MAPE']]\n",
    "results"
   ]
  },
  {
   "cell_type": "markdown",
   "metadata": {},
   "source": [
    "#### Simple Exponential Smoothing"
   ]
  },
  {
   "cell_type": "code",
   "execution_count": 82,
   "metadata": {},
   "outputs": [
    {
     "name": "stderr",
     "output_type": "stream",
     "text": [
      "/Users/satavisha/anaconda3/envs/timeseries/lib/python3.9/site-packages/statsmodels/tsa/base/tsa_model.py:524: ValueWarning: No frequency information was provided, so inferred frequency MS will be used.\n",
      "  warnings.warn('No frequency information was'\n",
      "/Users/satavisha/anaconda3/envs/timeseries/lib/python3.9/site-packages/statsmodels/tsa/holtwinters/model.py:920: ConvergenceWarning: Optimization failed to converge. Check mle_retvals.\n",
      "  warnings.warn(\n"
     ]
    }
   ],
   "source": [
    "from statsmodels.tsa.holtwinters import SimpleExpSmoothing\n",
    "model = SimpleExpSmoothing(train['invc_qty_cs'])\n",
    "model_fit = model.fit(optimized=True)\n",
    "model_fit.params\n",
    "y_hat_ses = test.copy()\n",
    "y_hat_ses['ses_forecast'] = model_fit.forecast(len(test))"
   ]
  },
  {
   "cell_type": "code",
   "execution_count": 84,
   "metadata": {},
   "outputs": [
    {
     "data": {
      "image/png": "[encoded data removed]",
      "text/plain": [
       "<Figure size 864x288 with 1 Axes>"
      ]
     },
     "metadata": {},
     "output_type": "display_data"
    }
   ],
   "source": [
    "# Plot train, test, forecast\n",
    "\n",
    "plt.figure(figsize=(12,4))\n",
    "plt.plot(train['invc_qty_cs'], label='Train')\n",
    "plt.plot(test['invc_qty_cs'], label='Test')\n",
    "plt.plot(y_hat_ses['ses_forecast'], label='Simple exponential smoothing forecast')\n",
    "plt.legend(loc='best')\n",
    "plt.title('Simple Exponential Smoothing Method')\n",
    "plt.show()"
   ]
  },
  {
   "cell_type": "code",
   "execution_count": 85,
   "metadata": {},
   "outputs": [
    {
     "data": {
      "text/html": [
       "<div>\n",
       "<style scoped>\n",
       "    .dataframe tbody tr th:only-of-type {\n",
       "        vertical-align: middle;\n",
       "    }\n",
       "\n",
       "    .dataframe tbody tr th {\n",
       "        vertical-align: top;\n",
       "    }\n",
       "\n",
       "    .dataframe thead th {\n",
       "        text-align: right;\n",
       "    }\n",
       "</style>\n",
       "<table border=\"1\" class=\"dataframe\">\n",
       "  <thead>\n",
       "    <tr style=\"text-align: right;\">\n",
       "      <th></th>\n",
       "      <th>Method</th>\n",
       "      <th>RMSE</th>\n",
       "      <th>MAPE</th>\n",
       "    </tr>\n",
       "  </thead>\n",
       "  <tbody>\n",
       "    <tr>\n",
       "      <th>0</th>\n",
       "      <td>Naive method</td>\n",
       "      <td>1853023</td>\n",
       "      <td>32</td>\n",
       "    </tr>\n",
       "    <tr>\n",
       "      <th>0</th>\n",
       "      <td>Simple average method</td>\n",
       "      <td>1730342</td>\n",
       "      <td>29</td>\n",
       "    </tr>\n",
       "    <tr>\n",
       "      <th>0</th>\n",
       "      <td>Simple exponential smoothing forecast</td>\n",
       "      <td>2042383</td>\n",
       "      <td>36</td>\n",
       "    </tr>\n",
       "    <tr>\n",
       "      <th>0</th>\n",
       "      <td>Simple exponential smoothing forecast</td>\n",
       "      <td>2042383</td>\n",
       "      <td>36</td>\n",
       "    </tr>\n",
       "  </tbody>\n",
       "</table>\n",
       "</div>"
      ],
      "text/plain": [
       "                                  Method    RMSE  MAPE\n",
       "0                           Naive method 1853023    32\n",
       "0                  Simple average method 1730342    29\n",
       "0  Simple exponential smoothing forecast 2042383    36\n",
       "0  Simple exponential smoothing forecast 2042383    36"
      ]
     },
     "execution_count": 85,
     "metadata": {},
     "output_type": "execute_result"
    }
   ],
   "source": [
    "# Calculate RMSE and MAPE\n",
    "\n",
    "rmse = np.sqrt(mean_squared_error(test['invc_qty_cs'], y_hat_ses['ses_forecast'])).round(2)\n",
    "mape = np.round(np.mean(np.abs(test['invc_qty_cs']-y_hat_ses['ses_forecast'])/test['invc_qty_cs'])*100,2)\n",
    "\n",
    "tempResults = pd.DataFrame({'Method':['Simple exponential smoothing forecast'], 'RMSE': [rmse],'MAPE': [mape] })\n",
    "results = pd.concat([results, tempResults])\n",
    "results"
   ]
  },
  {
   "cell_type": "markdown",
   "metadata": {},
   "source": [
    "### Holt's Method with Trend"
   ]
  },
  {
   "cell_type": "code",
   "execution_count": 86,
   "metadata": {},
   "outputs": [
    {
     "name": "stdout",
     "output_type": "stream",
     "text": [
      "{'smoothing_level': 0.5471428571428572, 'smoothing_trend': 0.5471428571428572, 'smoothing_seasonal': nan, 'damping_trend': nan, 'initial_level': 4377978.0, 'initial_trend': 2773143.0, 'initial_seasons': array([], dtype=float64), 'use_boxcox': False, 'lamda': None, 'remove_bias': False}\n"
     ]
    },
    {
     "name": "stderr",
     "output_type": "stream",
     "text": [
      "/Users/satavisha/anaconda3/envs/timeseries/lib/python3.9/site-packages/statsmodels/tsa/holtwinters/model.py:920: ConvergenceWarning: Optimization failed to converge. Check mle_retvals.\n",
      "  warnings.warn(\n"
     ]
    }
   ],
   "source": [
    "from statsmodels.tsa.holtwinters import ExponentialSmoothing\n",
    "model = ExponentialSmoothing(np.asarray(train['invc_qty_cs']) ,seasonal_periods=12 ,trend='additive', seasonal=None)\n",
    "model_fit = model.fit(optimized=True)\n",
    "print(model_fit.params)\n",
    "y_hat_holt = test.copy()\n",
    "y_hat_holt['holt_forecast'] = model_fit.forecast(len(test))"
   ]
  },
  {
   "cell_type": "code",
   "execution_count": 87,
   "metadata": {},
   "outputs": [
    {
     "data": {
      "image/png": "[encoded data removed]",
      "text/plain": [
       "<Figure size 864x288 with 1 Axes>"
      ]
     },
     "metadata": {},
     "output_type": "display_data"
    }
   ],
   "source": [
    "# Plot train, test, forecast\n",
    "plt.figure(figsize=(12,4))\n",
    "plt.plot( train['invc_qty_cs'], label='Train')\n",
    "plt.plot(test['invc_qty_cs'], label='Test')\n",
    "plt.plot(y_hat_holt['holt_forecast'], label='Holt\\'s exponential smoothing forecast')\n",
    "plt.legend(loc='best')\n",
    "plt.title('Holt\\'s Exponential Smoothing Method')\n",
    "plt.show()"
   ]
  },
  {
   "cell_type": "code",
   "execution_count": 88,
   "metadata": {},
   "outputs": [
    {
     "data": {
      "text/html": [
       "<div>\n",
       "<style scoped>\n",
       "    .dataframe tbody tr th:only-of-type {\n",
       "        vertical-align: middle;\n",
       "    }\n",
       "\n",
       "    .dataframe tbody tr th {\n",
       "        vertical-align: top;\n",
       "    }\n",
       "\n",
       "    .dataframe thead th {\n",
       "        text-align: right;\n",
       "    }\n",
       "</style>\n",
       "<table border=\"1\" class=\"dataframe\">\n",
       "  <thead>\n",
       "    <tr style=\"text-align: right;\">\n",
       "      <th></th>\n",
       "      <th>Method</th>\n",
       "      <th>RMSE</th>\n",
       "      <th>MAPE</th>\n",
       "    </tr>\n",
       "  </thead>\n",
       "  <tbody>\n",
       "    <tr>\n",
       "      <th>0</th>\n",
       "      <td>Naive method</td>\n",
       "      <td>1853023</td>\n",
       "      <td>32</td>\n",
       "    </tr>\n",
       "    <tr>\n",
       "      <th>0</th>\n",
       "      <td>Simple average method</td>\n",
       "      <td>1730342</td>\n",
       "      <td>29</td>\n",
       "    </tr>\n",
       "    <tr>\n",
       "      <th>0</th>\n",
       "      <td>Simple exponential smoothing forecast</td>\n",
       "      <td>2042383</td>\n",
       "      <td>36</td>\n",
       "    </tr>\n",
       "    <tr>\n",
       "      <th>0</th>\n",
       "      <td>Simple exponential smoothing forecast</td>\n",
       "      <td>2042383</td>\n",
       "      <td>36</td>\n",
       "    </tr>\n",
       "    <tr>\n",
       "      <th>0</th>\n",
       "      <td>Holt's exponential smoothing method</td>\n",
       "      <td>3881703</td>\n",
       "      <td>66</td>\n",
       "    </tr>\n",
       "  </tbody>\n",
       "</table>\n",
       "</div>"
      ],
      "text/plain": [
       "                                  Method    RMSE  MAPE\n",
       "0                           Naive method 1853023    32\n",
       "0                  Simple average method 1730342    29\n",
       "0  Simple exponential smoothing forecast 2042383    36\n",
       "0  Simple exponential smoothing forecast 2042383    36\n",
       "0    Holt's exponential smoothing method 3881703    66"
      ]
     },
     "execution_count": 88,
     "metadata": {},
     "output_type": "execute_result"
    }
   ],
   "source": [
    "# Calculate RMSE and MAPE\n",
    "\n",
    "rmse = np.sqrt(mean_squared_error(test['invc_qty_cs'], y_hat_holt['holt_forecast'])).round(2)\n",
    "mape = np.round(np.mean(np.abs(test['invc_qty_cs']-y_hat_holt['holt_forecast'])/test['invc_qty_cs'])*100,2)\n",
    "\n",
    "tempResults = pd.DataFrame({'Method':['Holt\\'s exponential smoothing method'], 'RMSE': [rmse],'MAPE': [mape] })\n",
    "results = pd.concat([results, tempResults])\n",
    "results = results[['Method', 'RMSE', 'MAPE']]\n",
    "results"
   ]
  },
  {
   "cell_type": "markdown",
   "metadata": {},
   "source": [
    "### Auto-regressive method\n",
    "\n",
    "#### To chech whether time series is stationary\n",
    "\n",
    "#### Augmented Dickey-Fuller (ADF) Test "
   ]
  },
  {
   "cell_type": "code",
   "execution_count": 89,
   "metadata": {},
   "outputs": [
    {
     "name": "stdout",
     "output_type": "stream",
     "text": [
      "ADF Statistic: -2.830509\n",
      "Critical Values @ 0.05: -3.15\n",
      "p-value: 0.054046\n"
     ]
    }
   ],
   "source": [
    "from statsmodels.tsa.stattools import adfuller\n",
    "adf_test = adfuller(df_tot_qty_mon['invc_qty_cs'])\n",
    "\n",
    "print('ADF Statistic: %f' % adf_test[0])\n",
    "print('Critical Values @ 0.05: %.2f' % adf_test[4]['5%'])\n",
    "print('p-value: %f' %adf_test[1])"
   ]
  },
  {
   "cell_type": "markdown",
   "metadata": {},
   "source": [
    "#### Since p-value is >  0.05, it means that the series **is** stationary."
   ]
  },
  {
   "cell_type": "code",
   "execution_count": 63,
   "metadata": {},
   "outputs": [],
   "source": [
    "p = d = q = range(0, 2)\n",
    "pdq = list(itertools.product(p, d, q))\n",
    "seasonal_pdq = [(x[0], x[1], x[2], 12) for x in list(itertools.product(p, d, q))]"
   ]
  },
  {
   "cell_type": "code",
   "execution_count": null,
   "metadata": {},
   "outputs": [],
   "source": []
  },
  {
   "cell_type": "code",
   "execution_count": null,
   "metadata": {},
   "outputs": [],
   "source": []
  },
  {
   "cell_type": "code",
   "execution_count": 1,
   "metadata": {},
   "outputs": [
    {
     "ename": "NameError",
     "evalue": "name 'pd' is not defined",
     "output_type": "error",
     "traceback": [
      "\u001b[0;31m---------------------------------------------------------------------------\u001b[0m",
      "\u001b[0;31mNameError\u001b[0m                                 Traceback (most recent call last)",
      "\u001b[0;32m/var/folders/p4/_z_5hfc912zb73l1blpyfzcr0000gn/T/ipykernel_40896/14079771.py\u001b[0m in \u001b[0;36m<module>\u001b[0;34m\u001b[0m\n\u001b[0;32m----> 1\u001b[0;31m \u001b[0mdf_pred_ts\u001b[0m \u001b[0;34m=\u001b[0m \u001b[0mpd\u001b[0m\u001b[0;34m.\u001b[0m\u001b[0mread_csv\u001b[0m\u001b[0;34m(\u001b[0m\u001b[0;34m\"./forecast_data/forecasat_data/hackers_predict_forecast.csv\"\u001b[0m\u001b[0;34m)\u001b[0m\u001b[0;34m\u001b[0m\u001b[0;34m\u001b[0m\u001b[0m\n\u001b[0m",
      "\u001b[0;31mNameError\u001b[0m: name 'pd' is not defined"
     ]
    }
   ],
   "source": [
    "df_pred_ts = pd.read_csv(\"./forecast_data/forecasat_data/hackers_predict_forecast.csv\")"
   ]
  },
  {
   "cell_type": "code",
   "execution_count": null,
   "metadata": {},
   "outputs": [],
   "source": [
    "df_pred_ts.columns"
   ]
  },
  {
   "cell_type": "code",
   "execution_count": null,
   "metadata": {},
   "outputs": [],
   "source": [
    "df_pred_ts['invc_create_dt'] = pd.to_datetime(df_pred_ts['invc_create_dt'])"
   ]
  },
  {
   "cell_type": "code",
   "execution_count": null,
   "metadata": {},
   "outputs": [],
   "source": [
    "df_pred_ts['fiscal_yr_mo'] = pd.to_datetime(df_pred_ts['fiscal_yr_mo'])"
   ]
  },
  {
   "cell_type": "code",
   "execution_count": null,
   "metadata": {},
   "outputs": [],
   "source": [
    "df_pred_ts['invc_create_dt'].min(), df_pred_ts['invc_create_dt'].max()"
   ]
  },
  {
   "cell_type": "code",
   "execution_count": null,
   "metadata": {},
   "outputs": [],
   "source": [
    "df_comp.date = pd.to_datetime(df_comp.date, dayfirst = True)\n",
    "df_comp.set_index(\"date\", inplace=True)\n",
    "df_comp=df_comp.asfreq('b')\n",
    "df_comp=df_comp.fillna(method='ffill')"
   ]
  },
  {
   "cell_type": "markdown",
   "metadata": {},
   "source": [
    "\n",
    "\n",
    "### Removing Surplus Data"
   ]
  },
  {
   "cell_type": "code",
   "execution_count": null,
   "metadata": {},
   "outputs": [],
   "source": [
    "df_comp['market_value']=df_comp.spx"
   ]
  },
  {
   "cell_type": "code",
   "execution_count": null,
   "metadata": {},
   "outputs": [],
   "source": [
    "del df_comp['spx']\n",
    "del df_comp['dax']\n",
    "del df_comp['ftse']\n",
    "del df_comp['nikkei']\n",
    "size = int(len(df_comp)*0.8)\n",
    "df, df_test = df_comp.iloc[:size], df_comp.iloc[size:]"
   ]
  },
  {
   "cell_type": "markdown",
   "metadata": {},
   "source": [
    " "
   ]
  },
  {
   "cell_type": "markdown",
   "metadata": {},
   "source": [
    "### White Noise"
   ]
  },
  {
   "cell_type": "code",
   "execution_count": null,
   "metadata": {
    "scrolled": false
   },
   "outputs": [],
   "source": [
    "wn = np.random.normal(loc = df.market_value.mean(), scale = df.market_value.std(), size = len(df))"
   ]
  },
  {
   "cell_type": "code",
   "execution_count": null,
   "metadata": {},
   "outputs": [],
   "source": [
    "df['wn'] = wn"
   ]
  },
  {
   "cell_type": "code",
   "execution_count": null,
   "metadata": {},
   "outputs": [],
   "source": [
    "df.describe()"
   ]
  },
  {
   "cell_type": "code",
   "execution_count": null,
   "metadata": {},
   "outputs": [],
   "source": [
    "df.wn.plot()\n",
    "plt.title(\"white noise Time-Series\", size=24)\n",
    "plt.show()"
   ]
  },
  {
   "cell_type": "code",
   "execution_count": null,
   "metadata": {
    "scrolled": true
   },
   "outputs": [],
   "source": [
    "df.market_value.plot(figsize=(20,5))\n",
    "plt.title(\"S&P Prices\", size =24)\n",
    "plt.ylim(0,2300)\n",
    "plt.show()"
   ]
  },
  {
   "cell_type": "markdown",
   "metadata": {},
   "source": [
    "### Random Walk"
   ]
  },
  {
   "cell_type": "code",
   "execution_count": null,
   "metadata": {},
   "outputs": [],
   "source": [
    "rw = pd.read_csv(\"Randwalk.csv\")\n",
    "rw.date = pd.to_datetime(rw.date, dayfirst= True)\n",
    "rw.set_index(\"date\", inplace = True)\n",
    "rw = rw.asfreq('b')"
   ]
  },
  {
   "cell_type": "code",
   "execution_count": null,
   "metadata": {},
   "outputs": [],
   "source": [
    "rw.describe()"
   ]
  },
  {
   "cell_type": "code",
   "execution_count": null,
   "metadata": {},
   "outputs": [],
   "source": [
    "df['rw'] = rw.price"
   ]
  },
  {
   "cell_type": "code",
   "execution_count": null,
   "metadata": {
    "scrolled": true
   },
   "outputs": [],
   "source": [
    "df.head()"
   ]
  },
  {
   "cell_type": "code",
   "execution_count": null,
   "metadata": {},
   "outputs": [],
   "source": [
    "df.rw.plot(figsize = (20,5))\n",
    "df.market_value.plot()\n",
    "plt.title(\"Random walk vs S&P\", size = 24)\n",
    "plt.show()"
   ]
  },
  {
   "cell_type": "markdown",
   "metadata": {},
   "source": [
    "### Stationarity"
   ]
  },
  {
   "cell_type": "code",
   "execution_count": null,
   "metadata": {},
   "outputs": [],
   "source": [
    "sts.adfuller(df.market_value)"
   ]
  },
  {
   "cell_type": "raw",
   "metadata": {},
   "source": [
    "(-1.736984745235244, #test statistic\n",
    " 0.41216456967706194, #p-value\n",
    " 18, autocorrelation for 18 periods,or 18 lags part of the regression\n",
    " 5002, # of obs's used in the analysis, depends on # of lags in the regression\n",
    " {'1%': -3.431658008603046, DF critical value at 1%\n",
    "  '5%': -2.862117998412982, DF critical value at 5%\n",
    "  '10%': -2.567077669247375}, DF critical value at 10%\n",
    " 39904.880607487445) # estimates the max information criteria-lower the values easier to make prediction for future"
   ]
  },
  {
   "cell_type": "code",
   "execution_count": null,
   "metadata": {},
   "outputs": [],
   "source": [
    "sts.adfuller(df.wn)"
   ]
  },
  {
   "cell_type": "code",
   "execution_count": null,
   "metadata": {},
   "outputs": [],
   "source": [
    "sts.adfuller(df.rw)"
   ]
  },
  {
   "cell_type": "markdown",
   "metadata": {},
   "source": [
    "### Seasonality"
   ]
  },
  {
   "cell_type": "code",
   "execution_count": null,
   "metadata": {},
   "outputs": [],
   "source": [
    "s_dec_additive = seasonal_decompose(df.market_value, model = 'additive')\n",
    "s_dec_additive.plot()\n",
    "plt.show()"
   ]
  },
  {
   "cell_type": "code",
   "execution_count": null,
   "metadata": {},
   "outputs": [],
   "source": [
    "s_dec_multiplicative = seasonal_decompose(df.market_value, model = 'multiplicative')\n",
    "s_dec_multiplicative.plot()\n",
    "plt.show()"
   ]
  },
  {
   "cell_type": "code",
   "execution_count": null,
   "metadata": {},
   "outputs": [],
   "source": []
  },
  {
   "cell_type": "markdown",
   "metadata": {},
   "source": [
    "### ACF"
   ]
  },
  {
   "cell_type": "code",
   "execution_count": null,
   "metadata": {
    "scrolled": true
   },
   "outputs": [],
   "source": []
  },
  {
   "cell_type": "markdown",
   "metadata": {},
   "source": [
    "### PACF"
   ]
  },
  {
   "cell_type": "code",
   "execution_count": null,
   "metadata": {},
   "outputs": [],
   "source": []
  },
  {
   "cell_type": "code",
   "execution_count": null,
   "metadata": {},
   "outputs": [],
   "source": []
  }
 ],
 "metadata": {
  "kernelspec": {
   "display_name": "timeseries",
   "language": "python",
   "name": "timeseries"
  },
  "language_info": {
   "codemirror_mode": {
    "name": "ipython",
    "version": 3
   },
   "file_extension": ".py",
   "mimetype": "text/x-python",
   "name": "python",
   "nbconvert_exporter": "python",
   "pygments_lexer": "ipython3",
   "version": "3.9.7"
  }
 },
 "nbformat": 4,
 "nbformat_minor": 2
}
